{
 "cells": [
  {
   "cell_type": "markdown",
   "metadata": {},
   "source": [
    "## Part 2 - Data Transformation & Cleaning"
   ]
  },
  {
   "cell_type": "markdown",
   "metadata": {},
   "source": [
    "#### Import the libraries"
   ]
  },
  {
   "cell_type": "code",
   "execution_count": 1,
   "metadata": {},
   "outputs": [
    {
     "name": "stderr",
     "output_type": "stream",
     "text": [
      "c:\\users\\spano\\miniconda3\\lib\\site-packages\\numpy\\_distributor_init.py:30: UserWarning: loaded more than 1 DLL from .libs:\n",
      "c:\\users\\spano\\miniconda3\\lib\\site-packages\\numpy\\.libs\\libopenblas.JPIJNSWNNAN3CE6LLI5FWSPHUT2VXMTH.gfortran-win_amd64.dll\n",
      "c:\\users\\spano\\miniconda3\\lib\\site-packages\\numpy\\.libs\\libopenblas.TXA6YQSD3GCQQC22GEQ54J2UDCXDXHWN.gfortran-win_amd64.dll\n",
      "  warnings.warn(\"loaded more than 1 DLL from .libs:\"\n"
     ]
    }
   ],
   "source": [
    "import pandas as pd\n",
    "import numpy as np\n",
    "import os\n",
    "import joblib #serialize the dataframes produced from code execution\n",
    "import tqdm.notebook as tqdm #monitor the progress of python for loops and pandas.apply() method\n",
    "import re #python regex module"
   ]
  },
  {
   "cell_type": "markdown",
   "metadata": {},
   "source": [
    "#### Import the dataset"
   ]
  },
  {
   "cell_type": "code",
   "execution_count": 5,
   "metadata": {},
   "outputs": [
    {
     "data": {
      "text/plain": [
       "(49393, 10)"
      ]
     },
     "execution_count": 5,
     "metadata": {},
     "output_type": "execute_result"
    }
   ],
   "source": [
    "\"\"\"\n",
    "dataset_part_1_25012020=final_dataset_49393_movies_25012020 are the same table files produced from Part 1.\n",
    "\"\"\"\n",
    "dataset=pd.read_pickle(os.path.join(os.getcwd(), \"dataset_part_1_25012020.pkl\"))\n",
    "dataset=dataset.reset_index(drop=True)\n",
    "dataset.shape"
   ]
  },
  {
   "cell_type": "markdown",
   "metadata": {},
   "source": [
    "#### -- -- -- -- -- -- -- -- -- -- -- -- -- -- -- -- -- -- -- -- -- -- -- -- -- -- -- -- -- -- -- -- -- -- -- -- -- -- -- -- -- -- -- -- -- -- -- --"
   ]
  },
  {
   "cell_type": "markdown",
   "metadata": {},
   "source": [
    "### Section 2.1: Cleaning columns and creating new ones based on research needs\n",
    "To follow through this section you are advised to read the comments on top of each code block"
   ]
  },
  {
   "cell_type": "code",
   "execution_count": 6,
   "metadata": {},
   "outputs": [
    {
     "data": {
      "text/plain": [
       "'1995'"
      ]
     },
     "execution_count": 6,
     "metadata": {},
     "output_type": "execute_result"
    }
   ],
   "source": [
    "\"\"\"2.1.1: Create a separate column for the year the movie was published\"\"\"\n",
    "pattern = '\\((\\d{4})\\)'\n",
    "dataset['year'] =dataset.title.str.extract(pattern, expand=False) #False returns a series\n",
    "dataset['year'].iloc[0]"
   ]
  },
  {
   "cell_type": "code",
   "execution_count": 7,
   "metadata": {},
   "outputs": [
    {
     "data": {
      "text/html": [
       "<div>\n",
       "<style scoped>\n",
       "    .dataframe tbody tr th:only-of-type {\n",
       "        vertical-align: middle;\n",
       "    }\n",
       "\n",
       "    .dataframe tbody tr th {\n",
       "        vertical-align: top;\n",
       "    }\n",
       "\n",
       "    .dataframe thead th {\n",
       "        text-align: right;\n",
       "    }\n",
       "</style>\n",
       "<table border=\"1\" class=\"dataframe\">\n",
       "  <thead>\n",
       "    <tr style=\"text-align: right;\">\n",
       "      <th></th>\n",
       "      <th>title</th>\n",
       "      <th>genres</th>\n",
       "      <th>rating</th>\n",
       "      <th>imdb_url</th>\n",
       "      <th>reviews_url</th>\n",
       "      <th>actors</th>\n",
       "      <th>plot</th>\n",
       "      <th>imdb_rating</th>\n",
       "      <th>director</th>\n",
       "      <th>reviews</th>\n",
       "      <th>year</th>\n",
       "    </tr>\n",
       "  </thead>\n",
       "  <tbody>\n",
       "    <tr>\n",
       "      <th>0</th>\n",
       "      <td>Toy Story</td>\n",
       "      <td>[Adventure, Animation, Children]</td>\n",
       "      <td>3.89</td>\n",
       "      <td>http://www.imdb.com/title/tt0114709/</td>\n",
       "      <td>http://www.imdb.com/title/tt0114709/reviews?sp...</td>\n",
       "      <td>[Tom Hanks, Tim Allen, Don Rickles, Jim Varney...</td>\n",
       "      <td>\\n                    A cowboy doll is profoun...</td>\n",
       "      <td>8.3</td>\n",
       "      <td>John Lasseter</td>\n",
       "      <td>[Andy's toys live a reasonable life of fun and...</td>\n",
       "      <td>1995</td>\n",
       "    </tr>\n",
       "    <tr>\n",
       "      <th>1</th>\n",
       "      <td>Jumanji</td>\n",
       "      <td>[Adventure, Children, Fantasy]</td>\n",
       "      <td>3.25</td>\n",
       "      <td>http://www.imdb.com/title/tt0113497/</td>\n",
       "      <td>http://www.imdb.com/title/tt0113497/reviews?sp...</td>\n",
       "      <td>[Robin Williams, Jonathan Hyde, Kirsten Dunst,...</td>\n",
       "      <td>\\n                    When two kids find and p...</td>\n",
       "      <td>7.0</td>\n",
       "      <td>Joe Johnston</td>\n",
       "      <td>[The smash hit 1995 film Jumanji- based on the...</td>\n",
       "      <td>1995</td>\n",
       "    </tr>\n",
       "    <tr>\n",
       "      <th>2</th>\n",
       "      <td>Grumpier Old Men</td>\n",
       "      <td>[Comedy, Romance]</td>\n",
       "      <td>3.17</td>\n",
       "      <td>http://www.imdb.com/title/tt0113228/</td>\n",
       "      <td>http://www.imdb.com/title/tt0113228/reviews?sp...</td>\n",
       "      <td>[Walter Matthau, Jack Lemmon, Sophia Loren, An...</td>\n",
       "      <td>\\n                    John and Max resolve to ...</td>\n",
       "      <td>6.7</td>\n",
       "      <td>Howard Deutch</td>\n",
       "      <td>[Sequels are rarely half as good as the origin...</td>\n",
       "      <td>1995</td>\n",
       "    </tr>\n",
       "    <tr>\n",
       "      <th>3</th>\n",
       "      <td>Waiting to Exhale</td>\n",
       "      <td>[Comedy, Drama, Romance]</td>\n",
       "      <td>2.87</td>\n",
       "      <td>http://www.imdb.com/title/tt0114885/</td>\n",
       "      <td>http://www.imdb.com/title/tt0114885/reviews?sp...</td>\n",
       "      <td>[Whitney Houston, Angela Bassett, Loretta Devi...</td>\n",
       "      <td>\\n                    Based on Terry McMillan'...</td>\n",
       "      <td>5.9</td>\n",
       "      <td>Forest Whitaker</td>\n",
       "      <td>[I read some of the other comments comcerning ...</td>\n",
       "      <td>1995</td>\n",
       "    </tr>\n",
       "    <tr>\n",
       "      <th>4</th>\n",
       "      <td>Father of the Bride Part II</td>\n",
       "      <td>[Comedy]</td>\n",
       "      <td>3.08</td>\n",
       "      <td>http://www.imdb.com/title/tt0113041/</td>\n",
       "      <td>http://www.imdb.com/title/tt0113041/reviews?sp...</td>\n",
       "      <td>[Steve Martin, Diane Keaton, Martin Short, Kim...</td>\n",
       "      <td>\\n                    George Banks must deal n...</td>\n",
       "      <td>6.0</td>\n",
       "      <td>Charles Shyer</td>\n",
       "      <td>[I enjoyed this film, as I did Father of the B...</td>\n",
       "      <td>1995</td>\n",
       "    </tr>\n",
       "  </tbody>\n",
       "</table>\n",
       "</div>"
      ],
      "text/plain": [
       "                         title                            genres  rating  \\\n",
       "0                    Toy Story  [Adventure, Animation, Children]    3.89   \n",
       "1                      Jumanji    [Adventure, Children, Fantasy]    3.25   \n",
       "2             Grumpier Old Men                 [Comedy, Romance]    3.17   \n",
       "3            Waiting to Exhale          [Comedy, Drama, Romance]    2.87   \n",
       "4  Father of the Bride Part II                          [Comedy]    3.08   \n",
       "\n",
       "                               imdb_url  \\\n",
       "0  http://www.imdb.com/title/tt0114709/   \n",
       "1  http://www.imdb.com/title/tt0113497/   \n",
       "2  http://www.imdb.com/title/tt0113228/   \n",
       "3  http://www.imdb.com/title/tt0114885/   \n",
       "4  http://www.imdb.com/title/tt0113041/   \n",
       "\n",
       "                                         reviews_url  \\\n",
       "0  http://www.imdb.com/title/tt0114709/reviews?sp...   \n",
       "1  http://www.imdb.com/title/tt0113497/reviews?sp...   \n",
       "2  http://www.imdb.com/title/tt0113228/reviews?sp...   \n",
       "3  http://www.imdb.com/title/tt0114885/reviews?sp...   \n",
       "4  http://www.imdb.com/title/tt0113041/reviews?sp...   \n",
       "\n",
       "                                              actors  \\\n",
       "0  [Tom Hanks, Tim Allen, Don Rickles, Jim Varney...   \n",
       "1  [Robin Williams, Jonathan Hyde, Kirsten Dunst,...   \n",
       "2  [Walter Matthau, Jack Lemmon, Sophia Loren, An...   \n",
       "3  [Whitney Houston, Angela Bassett, Loretta Devi...   \n",
       "4  [Steve Martin, Diane Keaton, Martin Short, Kim...   \n",
       "\n",
       "                                                plot imdb_rating  \\\n",
       "0  \\n                    A cowboy doll is profoun...         8.3   \n",
       "1  \\n                    When two kids find and p...         7.0   \n",
       "2  \\n                    John and Max resolve to ...         6.7   \n",
       "3  \\n                    Based on Terry McMillan'...         5.9   \n",
       "4  \\n                    George Banks must deal n...         6.0   \n",
       "\n",
       "          director                                            reviews  year  \n",
       "0    John Lasseter  [Andy's toys live a reasonable life of fun and...  1995  \n",
       "1     Joe Johnston  [The smash hit 1995 film Jumanji- based on the...  1995  \n",
       "2    Howard Deutch  [Sequels are rarely half as good as the origin...  1995  \n",
       "3  Forest Whitaker  [I read some of the other comments comcerning ...  1995  \n",
       "4    Charles Shyer  [I enjoyed this film, as I did Father of the B...  1995  "
      ]
     },
     "execution_count": 7,
     "metadata": {},
     "output_type": "execute_result"
    }
   ],
   "source": [
    "\"\"\"2.1.2: Clean the year (i.e 2001) from each title\"\"\"\n",
    "exp = r'\\(\\d\\d\\d\\d.'\n",
    "dataset['title'] = dataset['title'].apply(lambda x: re.sub(exp,\"\",x).strip())\n",
    "dataset.head()"
   ]
  },
  {
   "cell_type": "code",
   "execution_count": 8,
   "metadata": {},
   "outputs": [
    {
     "data": {
      "text/html": [
       "<div>\n",
       "<style scoped>\n",
       "    .dataframe tbody tr th:only-of-type {\n",
       "        vertical-align: middle;\n",
       "    }\n",
       "\n",
       "    .dataframe tbody tr th {\n",
       "        vertical-align: top;\n",
       "    }\n",
       "\n",
       "    .dataframe thead th {\n",
       "        text-align: right;\n",
       "    }\n",
       "</style>\n",
       "<table border=\"1\" class=\"dataframe\">\n",
       "  <thead>\n",
       "    <tr style=\"text-align: right;\">\n",
       "      <th></th>\n",
       "      <th>title</th>\n",
       "      <th>genres</th>\n",
       "      <th>rating</th>\n",
       "      <th>imdb_url</th>\n",
       "      <th>reviews_url</th>\n",
       "      <th>actors</th>\n",
       "      <th>plot</th>\n",
       "      <th>imdb_rating</th>\n",
       "      <th>director</th>\n",
       "      <th>reviews</th>\n",
       "      <th>year</th>\n",
       "    </tr>\n",
       "  </thead>\n",
       "  <tbody>\n",
       "    <tr>\n",
       "      <th>2408</th>\n",
       "      <td>Following</td>\n",
       "      <td>[Crime, Mystery, Thriller]</td>\n",
       "      <td>3.77</td>\n",
       "      <td>http://www.imdb.com/title/tt0154506/</td>\n",
       "      <td>http://www.imdb.com/title/tt0154506/reviews?sp...</td>\n",
       "      <td>[Jeremy Theobald, Alex Haw, Lucy Russell, John...</td>\n",
       "      <td>\\n                    A young writer who follo...</td>\n",
       "      <td>7.5</td>\n",
       "      <td>Christopher Nolan</td>\n",
       "      <td>[The debut that plucked from obscurity one of ...</td>\n",
       "      <td>1998</td>\n",
       "    </tr>\n",
       "    <tr>\n",
       "      <th>4038</th>\n",
       "      <td>Memento</td>\n",
       "      <td>[Mystery, Thriller]</td>\n",
       "      <td>4.15</td>\n",
       "      <td>http://www.imdb.com/title/tt0209144/</td>\n",
       "      <td>http://www.imdb.com/title/tt0209144/reviews?sp...</td>\n",
       "      <td>[Guy Pearce, Carrie-Anne Moss, Joe Pantoliano,...</td>\n",
       "      <td>\\n                    A man with short-term me...</td>\n",
       "      <td>8.4</td>\n",
       "      <td>Christopher Nolan</td>\n",
       "      <td>[Thank Goodness I didn't read the reviews post...</td>\n",
       "      <td>2000</td>\n",
       "    </tr>\n",
       "    <tr>\n",
       "      <th>5187</th>\n",
       "      <td>Insomnia</td>\n",
       "      <td>[Action, Crime, Drama]</td>\n",
       "      <td>3.48</td>\n",
       "      <td>http://www.imdb.com/title/tt0278504/</td>\n",
       "      <td>http://www.imdb.com/title/tt0278504/reviews?sp...</td>\n",
       "      <td>[Al Pacino, Martin Donovan, Oliver 'Ole' Zemen...</td>\n",
       "      <td>\\n                    Two Los Angeles homicide...</td>\n",
       "      <td>7.2</td>\n",
       "      <td>Christopher Nolan</td>\n",
       "      <td>[I didn't know that 'Insomnia' was based on a ...</td>\n",
       "      <td>2002</td>\n",
       "    </tr>\n",
       "    <tr>\n",
       "      <th>10062</th>\n",
       "      <td>Batman Begins</td>\n",
       "      <td>[Action, Crime, IMAX]</td>\n",
       "      <td>3.93</td>\n",
       "      <td>http://www.imdb.com/title/tt0372784/</td>\n",
       "      <td>http://www.imdb.com/title/tt0372784/reviews?sp...</td>\n",
       "      <td>[Christian Bale, Michael Caine, Liam Neeson, K...</td>\n",
       "      <td>\\n                    After training with his ...</td>\n",
       "      <td>8.2</td>\n",
       "      <td>Christopher Nolan</td>\n",
       "      <td>[It sickened me in the past to see the Batman ...</td>\n",
       "      <td>2005</td>\n",
       "    </tr>\n",
       "    <tr>\n",
       "      <th>11291</th>\n",
       "      <td>Prestige, The</td>\n",
       "      <td>[Drama, Mystery, Sci-Fi]</td>\n",
       "      <td>4.09</td>\n",
       "      <td>http://www.imdb.com/title/tt0482571/</td>\n",
       "      <td>http://www.imdb.com/title/tt0482571/reviews?sp...</td>\n",
       "      <td>[Hugh Jackman, Christian Bale, Michael Caine, ...</td>\n",
       "      <td>\\n                    After a tragic accident,...</td>\n",
       "      <td>8.5</td>\n",
       "      <td>Christopher Nolan</td>\n",
       "      <td>[I won't say it's an underrated movie, but it ...</td>\n",
       "      <td>2006</td>\n",
       "    </tr>\n",
       "    <tr>\n",
       "      <th>12422</th>\n",
       "      <td>Dark Knight, The</td>\n",
       "      <td>[Action, Crime, Drama]</td>\n",
       "      <td>4.17</td>\n",
       "      <td>http://www.imdb.com/title/tt0468569/</td>\n",
       "      <td>http://www.imdb.com/title/tt0468569/reviews?sp...</td>\n",
       "      <td>[Christian Bale, Heath Ledger, Aaron Eckhart, ...</td>\n",
       "      <td>\\n                    When the menace known as...</td>\n",
       "      <td>9.0</td>\n",
       "      <td>Christopher Nolan</td>\n",
       "      <td>[We've been subjected to enormous amounts of h...</td>\n",
       "      <td>2008</td>\n",
       "    </tr>\n",
       "    <tr>\n",
       "      <th>15361</th>\n",
       "      <td>Inception</td>\n",
       "      <td>[Action, Crime, Drama]</td>\n",
       "      <td>4.16</td>\n",
       "      <td>http://www.imdb.com/title/tt1375666/</td>\n",
       "      <td>http://www.imdb.com/title/tt1375666/reviews?sp...</td>\n",
       "      <td>[Leonardo DiCaprio, Joseph Gordon-Levitt, Elle...</td>\n",
       "      <td>\\n                    A thief who steals corpo...</td>\n",
       "      <td>8.8</td>\n",
       "      <td>Christopher Nolan</td>\n",
       "      <td>[What is the most resilient parasite? An Idea!...</td>\n",
       "      <td>2010</td>\n",
       "    </tr>\n",
       "    <tr>\n",
       "      <th>17974</th>\n",
       "      <td>Dark Knight Rises, The</td>\n",
       "      <td>[Action, Adventure, Crime]</td>\n",
       "      <td>3.98</td>\n",
       "      <td>http://www.imdb.com/title/tt1345836/</td>\n",
       "      <td>http://www.imdb.com/title/tt1345836/reviews?sp...</td>\n",
       "      <td>[Christian Bale, Gary Oldman, Tom Hardy, Josep...</td>\n",
       "      <td>\\n                    Eight years after the Jo...</td>\n",
       "      <td>8.4</td>\n",
       "      <td>Christopher Nolan</td>\n",
       "      <td>[After eight years in seclusion, Batman resurf...</td>\n",
       "      <td>2012</td>\n",
       "    </tr>\n",
       "    <tr>\n",
       "      <th>22130</th>\n",
       "      <td>Interstellar</td>\n",
       "      <td>[Sci-Fi, IMAX]</td>\n",
       "      <td>4.09</td>\n",
       "      <td>http://www.imdb.com/title/tt0816692/</td>\n",
       "      <td>http://www.imdb.com/title/tt0816692/reviews?sp...</td>\n",
       "      <td>[Ellen Burstyn, Matthew McConaughey, Mackenzie...</td>\n",
       "      <td>\\n                    A team of explorers trav...</td>\n",
       "      <td>8.6</td>\n",
       "      <td>Christopher Nolan</td>\n",
       "      <td>[This movie was the best written, acted, visua...</td>\n",
       "      <td>2014</td>\n",
       "    </tr>\n",
       "    <tr>\n",
       "      <th>25087</th>\n",
       "      <td>Doodlebug</td>\n",
       "      <td>[Fantasy, Mystery]</td>\n",
       "      <td>3.16</td>\n",
       "      <td>http://www.imdb.com/title/tt0411302/</td>\n",
       "      <td>http://www.imdb.com/title/tt0411302/reviews?sp...</td>\n",
       "      <td>[Jeremy Theobald]</td>\n",
       "      <td>\\n                    In his squalid apartment...</td>\n",
       "      <td>7.1</td>\n",
       "      <td>Christopher Nolan</td>\n",
       "      <td>[A man is trying to catch some sort of bug run...</td>\n",
       "      <td>1997</td>\n",
       "    </tr>\n",
       "    <tr>\n",
       "      <th>41024</th>\n",
       "      <td>Dunkirk</td>\n",
       "      <td>[Action, Drama, Thriller]</td>\n",
       "      <td>3.80</td>\n",
       "      <td>http://www.imdb.com/title/tt5013056/</td>\n",
       "      <td>http://www.imdb.com/title/tt5013056/reviews?sp...</td>\n",
       "      <td>[Fionn Whitehead, Damien Bonnard, Aneurin Barn...</td>\n",
       "      <td>\\n                    Allied soldiers from Bel...</td>\n",
       "      <td>7.9</td>\n",
       "      <td>Christopher Nolan</td>\n",
       "      <td>[Dunkirk is one of the most visually stunning ...</td>\n",
       "      <td>2017</td>\n",
       "    </tr>\n",
       "  </tbody>\n",
       "</table>\n",
       "</div>"
      ],
      "text/plain": [
       "                        title                      genres  rating  \\\n",
       "2408                Following  [Crime, Mystery, Thriller]    3.77   \n",
       "4038                  Memento         [Mystery, Thriller]    4.15   \n",
       "5187                 Insomnia      [Action, Crime, Drama]    3.48   \n",
       "10062           Batman Begins       [Action, Crime, IMAX]    3.93   \n",
       "11291           Prestige, The    [Drama, Mystery, Sci-Fi]    4.09   \n",
       "12422        Dark Knight, The      [Action, Crime, Drama]    4.17   \n",
       "15361               Inception      [Action, Crime, Drama]    4.16   \n",
       "17974  Dark Knight Rises, The  [Action, Adventure, Crime]    3.98   \n",
       "22130            Interstellar              [Sci-Fi, IMAX]    4.09   \n",
       "25087               Doodlebug          [Fantasy, Mystery]    3.16   \n",
       "41024                 Dunkirk   [Action, Drama, Thriller]    3.80   \n",
       "\n",
       "                                   imdb_url  \\\n",
       "2408   http://www.imdb.com/title/tt0154506/   \n",
       "4038   http://www.imdb.com/title/tt0209144/   \n",
       "5187   http://www.imdb.com/title/tt0278504/   \n",
       "10062  http://www.imdb.com/title/tt0372784/   \n",
       "11291  http://www.imdb.com/title/tt0482571/   \n",
       "12422  http://www.imdb.com/title/tt0468569/   \n",
       "15361  http://www.imdb.com/title/tt1375666/   \n",
       "17974  http://www.imdb.com/title/tt1345836/   \n",
       "22130  http://www.imdb.com/title/tt0816692/   \n",
       "25087  http://www.imdb.com/title/tt0411302/   \n",
       "41024  http://www.imdb.com/title/tt5013056/   \n",
       "\n",
       "                                             reviews_url  \\\n",
       "2408   http://www.imdb.com/title/tt0154506/reviews?sp...   \n",
       "4038   http://www.imdb.com/title/tt0209144/reviews?sp...   \n",
       "5187   http://www.imdb.com/title/tt0278504/reviews?sp...   \n",
       "10062  http://www.imdb.com/title/tt0372784/reviews?sp...   \n",
       "11291  http://www.imdb.com/title/tt0482571/reviews?sp...   \n",
       "12422  http://www.imdb.com/title/tt0468569/reviews?sp...   \n",
       "15361  http://www.imdb.com/title/tt1375666/reviews?sp...   \n",
       "17974  http://www.imdb.com/title/tt1345836/reviews?sp...   \n",
       "22130  http://www.imdb.com/title/tt0816692/reviews?sp...   \n",
       "25087  http://www.imdb.com/title/tt0411302/reviews?sp...   \n",
       "41024  http://www.imdb.com/title/tt5013056/reviews?sp...   \n",
       "\n",
       "                                                  actors  \\\n",
       "2408   [Jeremy Theobald, Alex Haw, Lucy Russell, John...   \n",
       "4038   [Guy Pearce, Carrie-Anne Moss, Joe Pantoliano,...   \n",
       "5187   [Al Pacino, Martin Donovan, Oliver 'Ole' Zemen...   \n",
       "10062  [Christian Bale, Michael Caine, Liam Neeson, K...   \n",
       "11291  [Hugh Jackman, Christian Bale, Michael Caine, ...   \n",
       "12422  [Christian Bale, Heath Ledger, Aaron Eckhart, ...   \n",
       "15361  [Leonardo DiCaprio, Joseph Gordon-Levitt, Elle...   \n",
       "17974  [Christian Bale, Gary Oldman, Tom Hardy, Josep...   \n",
       "22130  [Ellen Burstyn, Matthew McConaughey, Mackenzie...   \n",
       "25087                                  [Jeremy Theobald]   \n",
       "41024  [Fionn Whitehead, Damien Bonnard, Aneurin Barn...   \n",
       "\n",
       "                                                    plot imdb_rating  \\\n",
       "2408   \\n                    A young writer who follo...         7.5   \n",
       "4038   \\n                    A man with short-term me...         8.4   \n",
       "5187   \\n                    Two Los Angeles homicide...         7.2   \n",
       "10062  \\n                    After training with his ...         8.2   \n",
       "11291  \\n                    After a tragic accident,...         8.5   \n",
       "12422  \\n                    When the menace known as...         9.0   \n",
       "15361  \\n                    A thief who steals corpo...         8.8   \n",
       "17974  \\n                    Eight years after the Jo...         8.4   \n",
       "22130  \\n                    A team of explorers trav...         8.6   \n",
       "25087  \\n                    In his squalid apartment...         7.1   \n",
       "41024  \\n                    Allied soldiers from Bel...         7.9   \n",
       "\n",
       "                director                                            reviews  \\\n",
       "2408   Christopher Nolan  [The debut that plucked from obscurity one of ...   \n",
       "4038   Christopher Nolan  [Thank Goodness I didn't read the reviews post...   \n",
       "5187   Christopher Nolan  [I didn't know that 'Insomnia' was based on a ...   \n",
       "10062  Christopher Nolan  [It sickened me in the past to see the Batman ...   \n",
       "11291  Christopher Nolan  [I won't say it's an underrated movie, but it ...   \n",
       "12422  Christopher Nolan  [We've been subjected to enormous amounts of h...   \n",
       "15361  Christopher Nolan  [What is the most resilient parasite? An Idea!...   \n",
       "17974  Christopher Nolan  [After eight years in seclusion, Batman resurf...   \n",
       "22130  Christopher Nolan  [This movie was the best written, acted, visua...   \n",
       "25087  Christopher Nolan  [A man is trying to catch some sort of bug run...   \n",
       "41024  Christopher Nolan  [Dunkirk is one of the most visually stunning ...   \n",
       "\n",
       "       year  \n",
       "2408   1998  \n",
       "4038   2000  \n",
       "5187   2002  \n",
       "10062  2005  \n",
       "11291  2006  \n",
       "12422  2008  \n",
       "15361  2010  \n",
       "17974  2012  \n",
       "22130  2014  \n",
       "25087  1997  \n",
       "41024  2017  "
      ]
     },
     "execution_count": 8,
     "metadata": {},
     "output_type": "execute_result"
    }
   ],
   "source": [
    "\"\"\"\n",
    "2.1.3: Replace (,The) & (,A), (, An) from the end of the string, at the front + Remove any text inside paranthesis\n",
    "As we can see \"Dark Knight Rises, The\" (index 17974) is not correct and should be corrected to \"The Dark Knight Rises\n",
    "\"\"\"\n",
    "dataset[dataset.director==\"Christopher Nolan\"]"
   ]
  },
  {
   "cell_type": "code",
   "execution_count": 9,
   "metadata": {},
   "outputs": [
    {
     "name": "stderr",
     "output_type": "stream",
     "text": [
      "<ipython-input-9-64f41b4541cf>:1: FutureWarning: The default value of regex will change from True to False in a future version.\n",
      "  dataset['title']=dataset['title'].str.replace(r'(.*?),?\\s*(The|A|An|Les)?(?=\\s*\\(.*\\)\\s*|$).*', r'\\2 \\1')\n"
     ]
    }
   ],
   "source": [
    "\"\"\"Continue of step 2.1.3 to apply the regex transformation of the movie title\"\"\"\n",
    "dataset['title']=dataset['title'].str.replace(r'(.*?),?\\s*(The|A|An|Les)?(?=\\s*\\(.*\\)\\s*|$).*', r'\\2 \\1')\n",
    "dataset['title']=dataset['title'].str.strip()"
   ]
  },
  {
   "cell_type": "code",
   "execution_count": 11,
   "metadata": {},
   "outputs": [
    {
     "name": "stdout",
     "output_type": "stream",
     "text": [
      "The Dark Knight\n",
      "The Dark Knight Rises\n"
     ]
    }
   ],
   "source": [
    "\"\"\"\n",
    "(1) title: Dark Knight, The (index 12422), has been successfully changed to The Dark Knight\n",
    "(2) title: Dark Knight Rises, The (index 17974), has been successfully changed to The Dark Knight Rises\n",
    "\"\"\"\n",
    "print(dataset[\"title\"].iloc[12422])\n",
    "print(dataset[\"title\"].iloc[17974])"
   ]
  },
  {
   "cell_type": "code",
   "execution_count": 12,
   "metadata": {},
   "outputs": [],
   "source": [
    "\"\"\"\n",
    "2.1.4: Clean some punctuation mistakes in columns plot summary and user reviews.\n",
    "This code block will be refactored in later versions of the notebook.\n",
    "\"\"\"\n",
    "dataset['plot']=dataset['plot'].apply(lambda x: re.sub(\" +\", \" \", x.strip().replace(',', ', ').replace('.', '. ').replace('?', '? ').replace('!', '! ').replace('\\n                    See full summary\\xa0»', '').rstrip()))\n",
    "dataset['reviews']=dataset['reviews'].apply(lambda x: [re.sub(\" +\", \" \", user_review.strip().replace(',', ', ').replace('.', '. ').replace('?', '? ').replace('!', '! ').rstrip()) for user_review in x])"
   ]
  },
  {
   "cell_type": "code",
   "execution_count": 14,
   "metadata": {},
   "outputs": [
    {
     "data": {
      "text/plain": [
       "33181    Before New Year Eve the windows of vast city are glowing from within by colored Christmas lights. It seems that behind each of these windows carefully stored favorite holiday. It seems that . . .\n",
       "Name: plot, dtype: object"
      ]
     },
     "execution_count": 14,
     "metadata": {},
     "output_type": "execute_result"
    }
   ],
   "source": [
    "\"\"\"After cleaning the plot of the movies using the above code block, check the plot of a random movie.\"\"\"\n",
    "pd.set_option('display.max_colwidth', None)\n",
    "dataset['plot'][dataset['title']==\"Come Look at Me\"]"
   ]
  },
  {
   "cell_type": "code",
   "execution_count": 15,
   "metadata": {},
   "outputs": [
    {
     "name": "stdout",
     "output_type": "stream",
     "text": [
      "The number of movies with an unregistered/empty plot from IMDB: 176\n"
     ]
    },
    {
     "data": {
      "text/plain": [
       "(49217, 11)"
      ]
     },
     "execution_count": 15,
     "metadata": {},
     "output_type": "execute_result"
    }
   ],
   "source": [
    "\"\"\"\n",
    "2.1.5: Remove empty summaries. Movies with empty plot summaries should be removed.\n",
    "In total 176 movies should be removed, due to UNKNOWN plot summary text.\n",
    "\"\"\"\n",
    "print(f\"The number of movies with an unregistered/empty plot from IMDB: {len(dataset[dataset['plot']=='Add a Plot »'])}\")\n",
    "dataset=dataset[dataset['plot']!='Add a Plot »']\n",
    "dataset.shape"
   ]
  },
  {
   "cell_type": "code",
   "execution_count": 16,
   "metadata": {},
   "outputs": [
    {
     "name": "stderr",
     "output_type": "stream",
     "text": [
      "c:\\users\\spano\\miniconda3\\lib\\site-packages\\pandas\\core\\indexing.py:1637: SettingWithCopyWarning: \n",
      "A value is trying to be set on a copy of a slice from a DataFrame\n",
      "\n",
      "See the caveats in the documentation: https://pandas.pydata.org/pandas-docs/stable/user_guide/indexing.html#returning-a-view-versus-a-copy\n",
      "  self._setitem_single_block(indexer, value, name)\n",
      "c:\\users\\spano\\miniconda3\\lib\\site-packages\\pandas\\core\\indexing.py:1637: SettingWithCopyWarning: \n",
      "A value is trying to be set on a copy of a slice from a DataFrame\n",
      "\n",
      "See the caveats in the documentation: https://pandas.pydata.org/pandas-docs/stable/user_guide/indexing.html#returning-a-view-versus-a-copy\n",
      "  self._setitem_single_block(indexer, value, name)\n"
     ]
    }
   ],
   "source": [
    "\"\"\"2.1.6: Create the positive/negative column\"\"\"\n",
    "dataset.loc[:, 'sentiment_value']=dataset['rating']\n",
    "dataset.loc[:, 'sentiment_value'].loc[dataset.rating >=2.5] = 1\n",
    "dataset.loc[:, 'sentiment_value'].loc[dataset.rating <2.5] = 0"
   ]
  },
  {
   "cell_type": "code",
   "execution_count": 17,
   "metadata": {},
   "outputs": [
    {
     "data": {
      "text/plain": [
       "\"Toy Story Tom Hanks Tim Allen Don Rickles Jim Varney Wallace Shawn John Ratzenberger Annie Potts John Morris Erik von Detten Laurie Metcalf R. Lee Ermey Sarah Freeman Penn Jillette Jack Angel Spencer Aste John Lasseter A cowboy doll is profoundly threatened and jealous when a new spaceman figure supplants him as top toy in a boy's room. Adventure Animation Children\""
      ]
     },
     "execution_count": 17,
     "metadata": {},
     "output_type": "execute_result"
    }
   ],
   "source": [
    "\"\"\"2.1.7 Create the column Combined Features\"\"\"\n",
    "def combine_features(row):\n",
    "    \"\"\"\n",
    "    Purpose: This function will create the column 'movie_features'. The column will combine text content from multiple columns of the dataframe.\n",
    "             Specifically the text combined derives from the following columns:\n",
    "             1) Title,\n",
    "             2) Actors,\n",
    "             3) Director,\n",
    "             4) Plot summary,\n",
    "             5) Genres\n",
    "    Argument: Dataset row\n",
    "    Output: The unified text of five columns into one column.\n",
    "    \"\"\"\n",
    "    return row['title'] + \" \" + ' '.join(map(str, row['actors'])) + \" \" + row['director'] + \" \" + row['plot'] + \" \" + ' '.join(row['genres'])\n",
    "\n",
    "dataset[\"movie_features\"]=dataset.apply(combine_features, axis=1)\n",
    "dataset[\"movie_features\"].iloc[0]"
   ]
  },
  {
   "cell_type": "markdown",
   "metadata": {},
   "source": [
    "#### -- -- -- -- -- -- -- -- -- -- -- -- -- -- -- -- -- -- -- -- -- -- -- -- -- -- -- -- -- -- -- -- -- -- -- -- -- -- -- -- -- -- -- -- -- -- -- --"
   ]
  },
  {
   "cell_type": "markdown",
   "metadata": {},
   "source": [
    "### Section 2.2: Remove movies that belong to low-frequency (sparse) genre tags & Replace plots and movie_features with new content for some movies.\n",
    "To follow through this section you are advised to read the comments on top of each code block"
   ]
  },
  {
   "cell_type": "code",
   "execution_count": 18,
   "metadata": {},
   "outputs": [
    {
     "name": "stdout",
     "output_type": "stream",
     "text": [
      "Drama          24.982\n",
      "Comedy         15.684\n",
      "Action          7.478\n",
      "Romance         7.105\n",
      "Thriller        6.925\n",
      "Horror          5.665\n",
      "Crime           5.356\n",
      "Documentary     4.300\n",
      "Adventure       4.223\n",
      "Sci-Fi          2.978\n",
      "Mystery         2.703\n",
      "Children        2.490\n",
      "Animation       2.354\n",
      "Fantasy         2.266\n",
      "War             1.680\n",
      "Western         1.353\n",
      "Musical         1.151\n",
      "Film-Noir       0.388\n",
      "Short           0.264\n",
      "Family          0.151\n",
      "Biography       0.134\n",
      "Music           0.127\n",
      "History         0.125\n",
      "IMAX            0.060\n",
      "Sport           0.044\n",
      "Adult           0.005\n",
      "News            0.003\n",
      "Reality-TV      0.003\n",
      "Name: genres, dtype: float64\n",
      "genre tags to remove: ['Film-Noir', 'Short', 'Family', 'Biography', 'Music', 'History', 'IMAX', 'Sport', 'Adult', 'News', 'Reality-TV']\n",
      "indexes to remove: [717, 1081, 1901, 3113, 3199, 4237, 4969, 5591, 7112, 14256, 18022, 19599, 22408, 46551, 46555, 46559, 46560, 46561, 46562, 46575, 46579, 46580, 46584, 46586, 46587, 46656, 46746, 46788, 46819, 46836, 46864, 47083, 47086, 47261, 47280, 47311, 47319, 47332, 47344, 47354, 47423, 47481, 47487, 47541, 47633, 47726, 47754, 47787, 47920, 47967, 47968, 48102, 48137, 48204, 48224, 48266, 48268, 48371, 48489, 48566, 48624, 48649, 48650, 48712, 48715, 48728, 48761, 48776, 48778, 48786, 48815, 48863, 48930, 48998, 49010, 49011, 49028, 49054, 49062, 49065, 49086, 49087, 49134, 49235, 49238, 49239, 49255, 49301, 49316, 49318, 49322, 49324, 49331, 49364] (total: 94)\n"
     ]
    },
    {
     "data": {
      "text/plain": [
       "Drama          25.313\n",
       "Comedy         15.892\n",
       "Action          7.577\n",
       "Romance         7.199\n",
       "Thriller        7.016\n",
       "Horror          5.740\n",
       "Crime           5.427\n",
       "Documentary     4.357\n",
       "Adventure       4.279\n",
       "Sci-Fi          3.018\n",
       "Mystery         2.739\n",
       "Children        2.523\n",
       "Animation       2.385\n",
       "Fantasy         2.296\n",
       "War             1.702\n",
       "Western         1.371\n",
       "Musical         1.166\n",
       "Name: reduced_genres, dtype: float64"
      ]
     },
     "execution_count": 18,
     "metadata": {},
     "output_type": "execute_result"
    }
   ],
   "source": [
    "\"\"\"\n",
    "Execute the code below to get an overview of the genres distribution. This step is already applied to the dataset,\n",
    "so re-executing the code block will not affect the rows of the dataset.\n",
    "\n",
    "Having cut the most scarse occurences of genres it is still obvious that genres \"Drama\" & \"Comedy\" belong to 40% of the movies.\n",
    "A good approach is either to up-sample the dataset or down-sample it.\n",
    "What we chose was to down-sample the two dominant genres \"Drama\" & \"Comedy\". However, in the sub-part 3.2.\n",
    "We used the imbalanced dataset to train and test the keras text classification models.\n",
    "\"\"\"\n",
    "print(round(dataset['genres'].explode().value_counts(normalize=True) * 100,3))\n",
    "genre_frequency=round(dataset['genres'].explode().value_counts(normalize=True) * 100,3)\n",
    "genre_tags_remove=genre_frequency[genre_frequency<1.00].index.tolist() #remove the genres with less than 1% of frequency\n",
    "print(f\"genre tags to remove: {genre_tags_remove}\")\n",
    "\n",
    "# STEP 1: Remove genres less than 1% frequency\n",
    "dataset['reduced_genres']=dataset['genres'].apply(lambda row:[val for val in row if val not in genre_tags_remove])\n",
    "\n",
    "# STEP 2: Find indexes with EMPTY LISTS\n",
    "dataset_empty_lists=dataset[dataset['reduced_genres'].apply(lambda c: c==[])]\n",
    "remove_indices=dataset_empty_lists.index.to_list()\n",
    "print(f\"indexes to remove: {remove_indices} (total: {len(remove_indices)})\")\n",
    "\n",
    "# STEP 3: Remove the indexes with EMPTY LISTS\n",
    "dataset_frequent_genres=dataset[~dataset.index.isin(remove_indices)]\n",
    "dataset_frequent_genres=dataset_frequent_genres.reset_index(drop=True)\n",
    "print(f\"The shape of the dataset after removing the low-frequency genre tags: {dataset_frequent_genres.shape}\")\n",
    "round(dataset_frequent_genres['reduced_genres'].explode().value_counts(normalize=True) * 100,3)"
   ]
  },
  {
   "cell_type": "code",
   "execution_count": 29,
   "metadata": {},
   "outputs": [],
   "source": [
    "\"\"\"Apply some changes to plot summary and reviews of the dataset created in part 2 with the minority genres filtered out\"\"\"\n",
    "# REPLACE THE TEXT OF THOSE MOVIE PLOTS & FEATURES WITH THOSE BELOW, OTHERWISE THE PREPROCESSING WON'T COMPLETE CORRECTLY\n",
    "dataset_frequent_genres.iloc[10802,6]='A documentary looking at the Nigga word'\n",
    "dataset_frequent_genres.iloc[15148,6]=\"A shy Arun works as an accountant. On daily basis he travels by a bus to office where he sees Prabha who works in the same premises. Arun starts to like Prabha and follows her frequently but hasn't got the confidence in him to approach her. When ever Arun gains confidence to share about his feelings to Prabha her friend Nagesh steps in spoiling Arun's plans. In order to win his love for Prabha, Arun travels all the way to Lonavala to take the help of expert Colonel Julius Naganderanath Wilfred Singh. During this phase Prabha to starts missing Arun.\"\n",
    "dataset_frequent_genres.iloc[31994,6]=\"MARTIN ARMSTRONG, once a US based trillion dollar financial adviser, used the number pi to predict economic turning points with precision. When some big New York bankers asked him to join the club to help them to take over Russia, he refused to join the manipulation. A few days later the FBI stormed his offices accusing him of a 3 billion dollar Ponzi Scheme - an attempt to stop him talking about the real Ponzi Scheme of debts that the US has build up over the years and which he thinks starts to collapse after October 1, 2015, a major pi turning point he is predicting.\"\n",
    "dataset_frequent_genres.iloc[32858,6]=\"Notorious gangster asks a career thief by the name of Nandu to steal a package worth over one crore rupees for a fee, which Nandu does so. Things do not go as planned, when Nandu finds out that the package is worth more than twice the amount, he refuses to hand over the package to Pinky, until he raises his fees. An enraged Pinky instructs his men to locate Nandu, find the package and bring it back, and thereafter kill Nandu. While on the run from Pinky's gangsters, the police find out that Nandu was involved in this theft, and they launch a man-hunt. What Nandu does not know that the package that he has on his person does not contain money or gold, but a nuclear bomb that is set to explode.\"\n",
    "dataset_frequent_genres.iloc[33094,6]=\"Before New Year Eve the windows of vast city are glowing from within by colored Christmas lights. It seems that behind each of these windows carefully stored favorite holiday. It seems that each of them are waiting for the New Year's wish fulfillment. By the silhouette of an elderly woman at one of the windows of the old house in Moscow, neighbors in the yard probably accustomed as something unchangeable. Sophia Ivanovna ten years does not get up from her chair, all day looking out the window, glues paper figurines and listening to Dickens, who reads aloud to her, her only daughter Tanya. The only heiress, Tanya, whom Sophia Ivanovna must to pass all the family jewels, seems resigned to the position of an old maid, and her whole life consists only of the care of the sick mother.\"\n",
    "dataset_frequent_genres.iloc[36101,6]=\"Mr. Giant has kidnapped the brilliant Dr. Van Kohler and is planning to use the Doctor's invention, the N-bomb, to hold the world hostage. The only one who can foil Mr. Giant's evil scheme is Agent 00, a three foot tall filipino martial arts master, expert marksman, top-class romancer and all-around superspy. Can Agent 00 rescue Dr. Kohler before it's too late?\"\n",
    "dataset_frequent_genres.iloc[36670,6]=\"HEADER portrays the grueling psychological journey taken by ATF Agent Stewart Cummings. On the surface, Stewart struggles to solve a string of bizarre murders, but in secret, his life falls into a world of corruption that's impossible to escape. Deceit, rape, and murder spiral out of control triggering a hellish conclusion that defies description.\"\n",
    "dataset_frequent_genres.iloc[47726,6]=\"Raj is one of city's top lawyer known never to loose a case. He his introduced to Sargam during the launch of her new album by Ashwin Mehta owner of a music company. Next day Ashwin is found murdered and Tarang is held for the murder, Sargam and Tarang are childhood friends and she approaches Raj to fight for his case. During this period Raj notices that Tarang suffers from mental illness of split personality and when he suffers the attack he is not Tarang but Ranjeet and doesn't remember things he does when he turns Ranjeet. Tarang had killed Ashwin as the previous night he saw him forcing on Sargam but doesn't remember killing him as he was Ranjeet that time. Raj wins the case in court by proving Tarang innocent as he is suffering from mental illness. Tarang is due to release and gives Raj a shock to that he had planned everything regarding split personality as he was caught red handed on the site of murder.\"\n",
    "\n",
    "dataset_frequent_genres.iloc[8102,12]=\"Spinning Boris Jeff Goldblum Anthony LaPaglia Liev Schreiber Boris Lee Krutonog Svetlana Efremova Shauna MacDonald Gregory Hlady Vladimir Radian Ilia Volok Konstantin Kazakov Judah Katz Maria Syrgiannis Ola Sturik Gillian Vanderburgh Serge Timokhin Roger Spottiswoode Early in 1996, three Republican campaign operatives take a job in secret assisting Boris Yeltsin's reelection. Once in Moscow, they find he's polling at 6 percent with the election a few months away. While Dick Dresner wants to go home, George Gorton and Joe Shumate vote to stay. First, they must get someone's attention; they succeed finally with Yeltsin's daughter. Then it's polling, focus groups, messages and spin. Even as Yeltsin's numbers go up, the trio are unsure who hired them and whether Yeltsin's allies have a different plan in mind than election victory. When the going gets toughest, it's Gorton who puts a spin on our stake: democracy and capitalism must win. Comedy Drama\"\n",
    "dataset_frequent_genres.iloc[10802,12]=\"The N Word F. Lee Bailey Sandra Bernhard Donald Bogle Todd Boyd Elaine Brown LeVar Burton George Carlin Morris Chestnut Chuck D Johnnie L. Cochran Jr. Stanley Crouch Damon Dash Dr. Dre Eazy-E Laurence Fishburne Todd Williams A documentary looking at the Nigga word Documentary\"\n",
    "dataset_frequent_genres.iloc[15148,12]=\"Chhoti Si Baat Ashok Kumar Vidya Sinha Amol Palekar Asrani Nandita Thakur Rajan Haksar Ashim Kumar Devendra Khandelwal Baba Majgoakar Noni Ganguly C.S. Dubey Amol Sen R.S. Chopra Sudarshan Sahni Milon Mukerji Basu Chatterjee A shy Arun works as an accountant. On daily basis he travels by a bus to office where he sees Prabha who works in the same premises. Arun starts to like Prabha and follows her frequently but hasn't got the confidence in him to approach her. When ever Arun gains confidence to share about his feelings to Prabha her friend Nagesh steps in spoiling Arun's plans. In order to win his love for Prabha, Arun travels all the way to Lonavala to take the help of expert Colonel Julius Naganderanath Wilfred Singh. During this phase Prabha to starts missing Arun. Comedy Romance\"\n",
    "dataset_frequent_genres.iloc[31994,12]=\"The Forecaster Martin Armstrong Vicky Armstrong Oliver Brown Michael Campbell Larry Edelson Tony Godin Nigel Kirwan Barclay Leib Neill MacPherson Thomas Sjoblom Marcus Vetter MARTIN ARMSTRONG, once a US based trillion dollar financial adviser, used the number pi to predict economic turning points with precision. When some big New York bankers asked him to join the club to help them to take over Russia, he refused to join the manipulation. A few days later the FBI stormed his offices accusing him of a 3 billion dollar Ponzi Scheme - an attempt to stop him talking about the real Ponzi Scheme of debts that the US has build up over the years and which he thinks starts to collapse after October 1, 2015, a major pi turning point he is predicting. Documentary\"\n",
    "dataset_frequent_genres.iloc[32858,12]=\"Daud Sanjay Dutt Urmila Matondkar Paresh Rawal Neeraj Vora Ram Mohan Ashish Vidyarthi Manoj Bajpayee Rajeev Mehta Jeetendra Shastri Sumukhi Tarzan Vineeth Narsing Yadav Rana Jung Bahadur Sunil Shende Ram Gopal Varma Notorious gangster asks a career thief by the name of Nandu to steal a package worth over one crore rupees for a fee, which Nandu does so. Things do not go as planned, when Nandu finds out that the package is worth more than twice the amount, he refuses to hand over the package to Pinky, until he raises his fees. An enraged Pinky instructs his men to locate Nandu, find the package and bring it back, and thereafter kill Nandu. While on the run from Pinky's gangsters, the police find out that Nandu was involved in this theft, and they launch a man-hunt. What Nandu does not know that the package that he has on his person does not contain money or gold, but a nuclear bomb that is set to explode. Action\"\n",
    "dataset_frequent_genres.iloc[33094,12]=\"Come Look at Me Oleg Yankovskiy Irina Kupchenko Yekaterina Vasilyeva Natalya Shchukina Mark Rudinshtejn Ivan Yankovskiy Mikhail Agranovich Before New Year Eve the windows of vast city are glowing from within by colored Christmas lights. It seems that behind each of these windows carefully stored favorite holiday. It seems that each of them are waiting for the New Year's wish fulfillment. By the silhouette of an elderly woman at one of the windows of the old house in Moscow, neighbors in the yard probably accustomed as something unchangeable. Sophia Ivanovna ten years does not get up from her chair, all day looking out the window, glues paper figurines and listening to Dickens, who reads aloud to her, her only daughter Tanya. The only heiress, Tanya, whom Sophia Ivanovna must to pass all the family jewels, seems resigned to the position of an old maid, and her whole life consists only of the care of the sick mother Comedy Drama Romance\"\n",
    "dataset_frequent_genres.iloc[36101,12]=\"For Y'ur Height Only Weng Weng Yehlen Catral Carmi Martin Anna Marie Gutierrez Beth Sandoval Eddie Nicart Mr. Giant has kidnapped the brilliant Dr. Van Kohler and is planning to use the Doctor's invention, the N-bomb, to hold the world hostage. The only one who can foil Mr. Giant's evil scheme is Agent 00, a 3-foot-tall filipino martial arts master, expert marksman, top-class romancer and all-around superspy. Can Agent 00 rescue Dr. Kohler before it's too late? Action Comedy\"\n",
    "dataset_frequent_genres.iloc[36670,12]=\"Header Jake Suffian Elliot V. Kotek Dick Mullaney Michael Philip Anthony Stacey Brooks Tara Brooks Jim Coope Bill Corry Andrew Cowen Amanda Czelinski Stephen DeCaires Kevin Dedes Lauren Devlin Ruth Dimino Morris Fazzi Jr. Archibald Flancranstin HEADER portrays the grueling psychological journey taken by ATF Agent Stewart Cummings. On the surface, Stewart struggles to solve a string of bizarre murders, but in secret, his life falls into a world of corruption that's impossible to escape. Deceit, rape, and murder spiral out of control triggering a hellish conclusion that defies description. Horror\"\n",
    "dataset_frequent_genres.iloc[47726,12]=\"Deewangee Ajay Devgn Akshaye Khanna Urmila Matondkar Farida Jalal Vijayendra Ghatge Seema Biswas Tiku Talsania Tanaaz Currim Irani Mohan Kapoor Nirmal Pandey Nishigandha Wad Rana Jung Bahadur Suresh Oberoi Sushovan Banerjee Suhasini Mulay Anees Bazmee Raj is one of city's top lawyer known never to loose a case. He his introduced to Sargam during the launch of her new album by Ashwin Mehta owner of a music company. Next day Ashwin is found murdered and Tarang is held for the murder, Sargam and Tarang are childhood friends and she approaches Raj to fight for his case. During this period Raj notices that Tarang suffers from mental illness of split personality and when he suffers the attack he is not Tarang but Ranjeet and doesn't remember things he does when he turns Ranjeet. Tarang had killed Ashwin as the previous night he saw him forcing on Sargam but doesn't remember killing him as he was Ranjeet that time. Raj wins the case in court by proving Tarang innocent as he is suffering from mental illness. Tarang is due to release and gives Raj a shock to that he had planned everything regarding split personality as he was caught red handed on the site of murder. Crime Drama Mystery\"\n",
    "\n",
    "# DELETE the movie: 6 Days to Air: The Making of South Park because its a short tv series.\n",
    "dataset_frequent_genres=dataset_frequent_genres[dataset_frequent_genres['title']!=\"6 Days to Air: The Making of South Park\"]\n",
    "dataset_frequent_genres=dataset_frequent_genres.reset_index(drop=True)"
   ]
  },
  {
   "cell_type": "code",
   "execution_count": 43,
   "metadata": {},
   "outputs": [
    {
     "name": "stdout",
     "output_type": "stream",
     "text": [
      "RangeIndex(start=0, stop=49122, step=1)\n"
     ]
    }
   ],
   "source": [
    "\"\"\"Print the index of the dataframe. This is only for demonstration purposes.\"\"\"\n",
    "print(dataset_frequent_genres.index)"
   ]
  },
  {
   "cell_type": "code",
   "execution_count": 44,
   "metadata": {},
   "outputs": [
    {
     "data": {
      "text/plain": [
       "['dataset_part_2_cleaned_of_redundant_genres_18022021.pkl']"
      ]
     },
     "execution_count": 44,
     "metadata": {},
     "output_type": "execute_result"
    }
   ],
   "source": [
    "\"\"\"Serialize the dataset to local disk space for use.\"\"\"\n",
    "joblib.dump(dataset_frequent_genres,\"dataset_part_2_cleaned_of_redundant_genres_18022021.pkl\")"
   ]
  },
  {
   "cell_type": "markdown",
   "metadata": {},
   "source": [
    "From this point it is advised to check Part 2.1-Connecting & Enriching dataset with movies.\\\n",
    "The next part will be used to enrich the dataset with more movies or add more content for each movie.\\\n",
    "The output dataset of part 2.1 will be used in part 3.1."
   ]
  },
  {
   "cell_type": "markdown",
   "metadata": {},
   "source": [
    "#### THIS IS THE END OF PART 2 - Data Transformation & Cleaning"
   ]
  }
 ],
 "metadata": {
  "kernelspec": {
   "display_name": "Python 3",
   "language": "python",
   "name": "python3"
  },
  "language_info": {
   "codemirror_mode": {
    "name": "ipython",
    "version": 3
   },
   "file_extension": ".py",
   "mimetype": "text/x-python",
   "name": "python",
   "nbconvert_exporter": "python",
   "pygments_lexer": "ipython3",
   "version": "3.9.1"
  }
 },
 "nbformat": 4,
 "nbformat_minor": 2
}
