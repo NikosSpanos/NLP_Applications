{
 "cells": [
  {
   "cell_type": "markdown",
   "metadata": {
    "colab_type": "text",
    "id": "qTwBCmgqKUeQ"
   },
   "source": [
    "### Part 3.2 - Model 2: GloVe embeddings model"
   ]
  },
  {
   "cell_type": "markdown",
   "metadata": {
    "colab_type": "text",
    "id": "5Lsm3I1WKUeR"
   },
   "source": [
    "Set the version data control parameter (to save the outputs of this notebook at their latest date)"
   ]
  },
  {
   "cell_type": "code",
   "execution_count": null,
   "metadata": {
    "colab": {},
    "colab_type": "code",
    "id": "M1tAevRKKUeS"
   },
   "outputs": [],
   "source": [
    "version_data_control=\"18072020\""
   ]
  },
  {
   "cell_type": "code",
   "execution_count": null,
   "metadata": {
    "colab": {},
    "colab_type": "code",
    "id": "0UFuF5Y4lBd8"
   },
   "outputs": [],
   "source": [
    "from google.colab import drive\n",
    "drive.mount('/content/drive')"
   ]
  },
  {
   "cell_type": "code",
   "execution_count": null,
   "metadata": {
    "colab": {},
    "colab_type": "code",
    "id": "nJ3iZ90GKUeV"
   },
   "outputs": [],
   "source": [
    "# Install those libraries if the notebook is executed on Google Colab\n",
    "\n",
    "!pip install --quiet git+https://github.com/tensorflow/docs\n",
    "!pip install --quiet humanfriendly\n",
    "!pip install --quiet tqdm"
   ]
  },
  {
   "cell_type": "markdown",
   "metadata": {
    "colab_type": "text",
    "id": "cXx_yhnVKUeY"
   },
   "source": [
    "#### Import standard libraries"
   ]
  },
  {
   "cell_type": "code",
   "execution_count": null,
   "metadata": {
    "colab": {},
    "colab_type": "code",
    "id": "kpo4gjLSKUeY"
   },
   "outputs": [],
   "source": [
    "import pandas as pd\n",
    "import numpy as np\n",
    "import os\n",
    "import time\n",
    "import random\n",
    "import pickle\n",
    "import json\n",
    "import shutil\n",
    "\n",
    "%matplotlib inline\n",
    "import matplotlib.image as mpimg\n",
    "import matplotlib.pyplot as plt\n",
    "\n",
    "from datetime import datetime\n",
    "from tabulate import tabulate\n",
    "from packaging import version\n",
    "from humanfriendly import format_timespan\n",
    "from tqdm import tqdm\n",
    "from IPython.core.display import display, HTML\n",
    "display(HTML(\"<style>.container { width:100% !important; }</style>\"))\n",
    "date_format='%Y-%m-%d %H-%M-%S'"
   ]
  },
  {
   "cell_type": "markdown",
   "metadata": {
    "colab_type": "text",
    "id": "DB2QBK26KUeb"
   },
   "source": [
    "#### Improt visualization libraries"
   ]
  },
  {
   "cell_type": "code",
   "execution_count": null,
   "metadata": {
    "colab": {},
    "colab_type": "code",
    "id": "Dvxj1tPSKUec"
   },
   "outputs": [],
   "source": [
    "%matplotlib inline\n",
    "import matplotlib.image as mpimg\n",
    "import matplotlib.pyplot as plt\n",
    "from pylab import rcParams\n",
    "\n",
    "import pydot\n",
    "import pydotplus\n",
    "import graphviz\n",
    "\n",
    "from IPython.display import SVG"
   ]
  },
  {
   "cell_type": "markdown",
   "metadata": {
    "colab_type": "text",
    "id": "dvSI6QpuKUee"
   },
   "source": [
    "#### Import Tensorflow"
   ]
  },
  {
   "cell_type": "code",
   "execution_count": null,
   "metadata": {
    "colab": {},
    "colab_type": "code",
    "id": "mDMstf37KUef"
   },
   "outputs": [],
   "source": [
    "import tensorflow as tf\n",
    "import tensorflow_addons as tfa\n",
    "import tensorflow_docs as tfdocs #!pip install git+https://github.com/tensorflow/docs\n",
    "import tensorflow_docs.plots as tfplots\n",
    "import tensorflow_docs.modeling as tfmodel\n",
    "\n",
    "from tensorflow.keras import layers, regularizers, models\n",
    "from tensorflow.keras import models\n",
    "from tensorflow.keras.callbacks import ModelCheckpoint, EarlyStopping\n",
    "from tensorflow.keras.utils import model_to_dot, plot_model\n",
    "from tensorflow.keras.models import load_model, model_from_json"
   ]
  },
  {
   "cell_type": "markdown",
   "metadata": {
    "colab_type": "text",
    "id": "c8L4THnZKUei"
   },
   "source": [
    "#### Import Tensorboard"
   ]
  },
  {
   "cell_type": "code",
   "execution_count": null,
   "metadata": {
    "colab": {},
    "colab_type": "code",
    "id": "6Do5n5c6KUei"
   },
   "outputs": [],
   "source": [
    "%load_ext tensorboard\n",
    "from tensorboard.plugins.hparams import api as hp"
   ]
  },
  {
   "cell_type": "markdown",
   "metadata": {
    "colab_type": "text",
    "id": "K5W0EVfCKUem"
   },
   "source": [
    "#### Clear any logs from previous runs"
   ]
  },
  {
   "cell_type": "code",
   "execution_count": null,
   "metadata": {
    "colab": {},
    "colab_type": "code",
    "id": "vRtdX19eKUem"
   },
   "outputs": [],
   "source": [
    "logging_directory=os.path.join(os.getcwd(), \"model_two/logs/hparam_tuning\")"
   ]
  },
  {
   "cell_type": "code",
   "execution_count": null,
   "metadata": {
    "colab": {},
    "colab_type": "code",
    "id": "h5f5fprEKUep"
   },
   "outputs": [],
   "source": [
    "shutil.rmtree(logging_directory, ignore_errors=True)"
   ]
  },
  {
   "cell_type": "markdown",
   "metadata": {
    "colab_type": "text",
    "id": "MfwI4pYjKUev"
   },
   "source": [
    "#### Import Tensorflow Hub"
   ]
  },
  {
   "cell_type": "code",
   "execution_count": null,
   "metadata": {
    "colab": {},
    "colab_type": "code",
    "id": "V1Ch5p1EKUew"
   },
   "outputs": [],
   "source": [
    "import tensorflow_hub as hub"
   ]
  },
  {
   "cell_type": "markdown",
   "metadata": {
    "colab_type": "text",
    "id": "-7x9SWWbKUe1"
   },
   "source": [
    "#### Import Keras"
   ]
  },
  {
   "cell_type": "code",
   "execution_count": null,
   "metadata": {
    "colab": {},
    "colab_type": "code",
    "id": "tpjTKnLMKUe2"
   },
   "outputs": [],
   "source": [
    "import keras.backend as K\n",
    "from tensorflow import keras"
   ]
  },
  {
   "cell_type": "code",
   "execution_count": null,
   "metadata": {
    "colab": {},
    "colab_type": "code",
    "id": "UASI7GFwKUe8"
   },
   "outputs": [],
   "source": [
    "%tensorflow_version 2.x\n",
    "\n",
    "print(\"TensorFlow version: \", tf.__version__)\n",
    "assert version.parse(tf.__version__).release[0] >= 2, \\\n",
    "    \"This notebook requires TensorFlow 2.0 or above.\"\n",
    "print(\"Eager mode: \", tf.executing_eagerly())\n",
    "print(\"Hub version: \", hub.__version__)\n",
    "print(\"GPU is\", \"available\" if tf.config.list_physical_devices('GPU') else \"NOT AVAILABLE\")"
   ]
  },
  {
   "cell_type": "markdown",
   "metadata": {
    "colab_type": "text",
    "id": "ZFSgUZ1BKUe-"
   },
   "source": [
    "#### Import the data already tokenized and transformed from Part 3.1"
   ]
  },
  {
   "cell_type": "markdown",
   "metadata": {
    "colab_type": "text",
    "id": "Sf9z9iuDKUe-"
   },
   "source": [
    "* 80-20 split - Non-balanced data"
   ]
  },
  {
   "cell_type": "code",
   "execution_count": null,
   "metadata": {
    "colab": {},
    "colab_type": "code",
    "id": "25wqtTnqk4cm"
   },
   "outputs": [],
   "source": [
    "saved_version_data_control=\"13072020\"\n",
    "tokenization_history_folder=\"text_tokenization_padded_sequences\"\n",
    "\n",
    "with open(os.path.join(os.getcwd(), 'drive/My Drive/data/{0}_{1}/words_tokenized_{1}.pkl'.format(tokenization_history_folder, saved_version_data_control)), 'rb') as handle:\n",
    "    words_tokenized = pickle.load(handle)\n",
    "words_tokenized"
   ]
  },
  {
   "cell_type": "code",
   "execution_count": null,
   "metadata": {
    "colab": {
     "base_uri": "https://localhost:8080/",
     "height": 34
    },
    "colab_type": "code",
    "id": "YB_rAr4LlXVP",
    "outputId": "e24c7006-0f2a-484a-da4a-6bfab7db6d68"
   },
   "outputs": [],
   "source": [
    "\"\"\"\n",
    "Import the tokenizers of each input\n",
    "\"\"\"\n",
    "with open(os.path.join(os.getcwd(), 'drive/My Drive/data/{0}_{1}/actors_tokenizer_{2}_{1}.pkl'.format(tokenization_history_folder, saved_version_data_control, words_tokenized['actors_tokenized'])),'rb') as f:\n",
    "    actors_tokenizer = pickle.load(f)\n",
    "    \n",
    "with open(os.path.join(os.getcwd(), 'drive/My Drive/data/{0}_{1}/plot_tokenizer_{2}_{1}.pkl'.format(tokenization_history_folder, saved_version_data_control, words_tokenized['plot_words_tokenized'])),'rb') as f:\n",
    "    plot_tokenizer = pickle.load(f)\n",
    "    \n",
    "with open(os.path.join(os.getcwd(), 'drive/My Drive/data/{0}_{1}/features_tokenizer_{2}_{1}.pkl'.format(tokenization_history_folder, saved_version_data_control, words_tokenized['features_words_tokenized'])),'rb') as f:\n",
    "    features_tokenizer = pickle.load(f)\n",
    "    \n",
    "with open(os.path.join(os.getcwd(), 'drive/My Drive/data/{0}_{1}/reviews_tokenizer_{2}_{1}.pkl'.format(tokenization_history_folder, saved_version_data_control, words_tokenized['reviews_words_tokenized'])),'rb') as f:\n",
    "    reviews_tokenizer = pickle.load(f)\n",
    "    \n",
    "with open(os.path.join(os.getcwd(), 'drive/My Drive/data/{0}_{1}/title_tokenizer_{2}_{1}.pkl'.format(tokenization_history_folder, saved_version_data_control, words_tokenized['title_words_tokenized'])),'rb') as f:\n",
    "    title_tokenizer = pickle.load(f)\n",
    "\n",
    "try:\n",
    "    assert len(actors_tokenizer.word_index)==words_tokenized['actors_tokenized']\n",
    "    assert len(plot_tokenizer.word_index)==words_tokenized['plot_words_tokenized']\n",
    "    assert len(features_tokenizer.word_index)==words_tokenized['features_words_tokenized']\n",
    "    assert len(reviews_tokenizer.word_index)==words_tokenized['reviews_words_tokenized']\n",
    "    assert len(title_tokenizer.word_index)==words_tokenized['title_words_tokenized']\n",
    "except AssertionError:\n",
    "    print(\"ERROR: The vocabulary length for some of the tokenizers, is not equal to 20000. Please verify their lengths by running the following: len(actors_tokenizer.word_index)\")\n",
    "\n",
    "print(\"Tokenizers are loaded successfully!\")"
   ]
  },
  {
   "cell_type": "code",
   "execution_count": null,
   "metadata": {
    "colab": {},
    "colab_type": "code",
    "id": "0ctEtA1_lZC9"
   },
   "outputs": [],
   "source": [
    "\"\"\"\n",
    "Import the cleaned, preprocessed and padded X independent features and the target variable y\n",
    "\"\"\"\n",
    "saved_version_data_control=\"13072020\"\n",
    "tokenization_history_folder=\"text_tokenization_padded_sequences\"\n",
    "\n",
    "X_train_seq_actors=np.load(os.path.join(os.getcwd(), \"drive/My Drive/data/{0}_{1}/x_train_seq_actors_80-20_non-balanced_{2}_{1}.npy\".format(tokenization_history_folder, saved_version_data_control, words_tokenized['actors_tokenized'])))\n",
    "X_train_seq_plot=np.load(os.path.join(os.getcwd(), \"drive/My Drive/data/{0}_{1}/x_train_seq_plot_80-20_non-balanced_{2}_{1}.npy\".format(tokenization_history_folder, saved_version_data_control, words_tokenized['plot_words_tokenized'])))\n",
    "X_train_seq_features=np.load(os.path.join(os.getcwd(), \"drive/My Drive/data/{0}_{1}/x_train_seq_features_80-20_non-balanced_{2}_{1}.npy\".format(tokenization_history_folder, saved_version_data_control, words_tokenized['features_words_tokenized'])))\n",
    "X_train_seq_reviews=np.load(os.path.join(os.getcwd(), \"drive/My Drive/data/{0}_{1}/x_train_seq_reviews_80-20_non-balanced_{2}_{1}.npy\".format(tokenization_history_folder, saved_version_data_control, words_tokenized['reviews_words_tokenized'])))\n",
    "X_train_seq_title=np.load(os.path.join(os.getcwd(), \"drive/My Drive/data/{0}_{1}/x_train_seq_title_80-20_non-balanced_{2}_{1}.npy\".format(tokenization_history_folder, saved_version_data_control, words_tokenized['title_words_tokenized'])))\n",
    "\n",
    "print(\"X_train data inputs have been loaded!\\n\")\n",
    "\n",
    "X_test_seq_actors=np.load(os.path.join(os.getcwd(), \"drive/My Drive/data/{0}_{1}/x_test_seq_actors_80-20_non-balanced_{2}_{1}.npy\".format(tokenization_history_folder, saved_version_data_control, words_tokenized['actors_tokenized'])))\n",
    "X_test_seq_plot=np.load(os.path.join(os.getcwd(), \"drive/My Drive/data/{0}_{1}/x_test_seq_plot_80-20_non-balanced_{2}_{1}.npy\".format(tokenization_history_folder, saved_version_data_control, words_tokenized['plot_words_tokenized'])))\n",
    "X_test_seq_features=np.load(os.path.join(os.getcwd(), \"drive/My Drive/data/{0}_{1}/x_test_seq_features_80-20_non-balanced_{2}_{1}.npy\".format(tokenization_history_folder, saved_version_data_control, words_tokenized['features_words_tokenized'])))\n",
    "X_test_seq_reviews=np.load(os.path.join(os.getcwd(), \"drive/My Drive/data/{0}_{1}/x_test_seq_reviews_80-20_non-balanced_{2}_{1}.npy\".format(tokenization_history_folder, saved_version_data_control, words_tokenized['reviews_words_tokenized'])))\n",
    "X_test_seq_title=np.load(os.path.join(os.getcwd(), \"drive/My Drive/data/{0}_{1}/x_test_seq_title_80-20_non-balanced_{2}_{1}.npy\".format(tokenization_history_folder, saved_version_data_control, words_tokenized['title_words_tokenized'])))\n",
    "\n",
    "print(\"X_test data inputs have been loaded!\\n\")\n",
    "\n",
    "y_train=np.load(os.path.join(os.getcwd(), \"drive/My Drive/data/{0}_{1}/y_train_80-20_non-balanced_{1}.npy\".format(tokenization_history_folder, saved_version_data_control)))\n",
    "y_test=np.load(os.path.join(os.getcwd(), \"drive/My Drive/data/{0}_{1}/y_test_80-20_non-balanced_{1}.npy\".format(tokenization_history_folder, saved_version_data_control)))\n",
    "\n",
    "print(\"y_train & y_test have been loaded!\\n\")"
   ]
  },
  {
   "cell_type": "code",
   "execution_count": null,
   "metadata": {
    "colab": {},
    "colab_type": "code",
    "id": "YH1-vwCLgxBx"
   },
   "outputs": [],
   "source": [
    "\"\"\"\n",
    "Import genres\n",
    "\"\"\"\n",
    "with open(os.path.join(os.getcwd(), 'drive/My Drive/data/{0}_{1}/genres_list_06032020.pkl'.format(tokenization_history_folder, saved_version_data_control)),'rb') as f:\n",
    "    genres_list = pickle.load(f)\n",
    "genres_list"
   ]
  },
  {
   "cell_type": "code",
   "execution_count": null,
   "metadata": {
    "colab": {},
    "colab_type": "code",
    "id": "wMLGT4f4_R4D"
   },
   "outputs": [],
   "source": [
    "\"\"\"\n",
    "Download the glove pre-trained embeddings vectors of 42 biilion tokens\n",
    "\"\"\"\n",
    "!wget http://nlp.stanford.edu/data/glove.42B.300d.zip\n",
    "!unzip /content/glove.42B.300d.zip"
   ]
  },
  {
   "cell_type": "code",
   "execution_count": null,
   "metadata": {
    "colab": {},
    "colab_type": "code",
    "id": "0gPbELlXKUfE"
   },
   "outputs": [],
   "source": [
    "### Load the pretrained word embeddings\n",
    "\n",
    "def load_glove_embeddings(dim: int = 300) -> dict:\n",
    "\n",
    "    glove_dir = os.path.join(os.getcwd())\n",
    "\n",
    "    print('Loading word vectors')\n",
    "\n",
    "    embed_index = dict()  # We create a dictionary of word -> embedding\n",
    "\n",
    "    fname = os.path.join(glove_dir, 'glove.42B.{}d.txt'.format(dim)) # The folder with the embeddings\n",
    "\n",
    "    f = open(fname,  'r', errors = 'ignore', encoding='utf8')  # Open file\n",
    "\n",
    "    # In the dataset, each line represents a new word embedding\n",
    "    # The line starts with the word and the embedding values follow\n",
    "    for line in tqdm(f, desc='Loading Embeddings', unit='word'):\n",
    "        values = line.split()\n",
    "        # The first value is the word, the rest are the values of the embedding\n",
    "        word = values[0]\n",
    "        # Load embedding\n",
    "        embedding = np.asarray(values[1:], dtype='float32')\n",
    "\n",
    "        # Add embedding to our embedding dictionary\n",
    "        embed_index[word] = embedding\n",
    "    f.close()\n",
    "\n",
    "    print('Found %s word vectors.' % len(embed_index))\n",
    "\n",
    "    return embed_index"
   ]
  },
  {
   "cell_type": "code",
   "execution_count": null,
   "metadata": {
    "colab": {
     "base_uri": "https://localhost:8080/",
     "height": 69
    },
    "colab_type": "code",
    "id": "r01okv0cKUfG",
    "outputId": "04715e14-3a5f-4d33-b13c-62dd06695865"
   },
   "outputs": [],
   "source": [
    "embedding_dim = 300\n",
    "embeddings_index = load_glove_embeddings(dim=embedding_dim)"
   ]
  },
  {
   "cell_type": "code",
   "execution_count": null,
   "metadata": {
    "colab": {},
    "colab_type": "code",
    "id": "YTHZHhBzKUfJ"
   },
   "outputs": [],
   "source": [
    "\"\"\"\n",
    "Based on the imported embedding index of GloVe embeddings, below we present the embedding vector of the word \"adventure\"\n",
    "\"\"\"\n",
    "embeddings_index['adventure']"
   ]
  },
  {
   "cell_type": "code",
   "execution_count": null,
   "metadata": {
    "colab": {},
    "colab_type": "code",
    "id": "xE-5sZOBKUfM"
   },
   "outputs": [],
   "source": [
    "def create_embeddings_matrix(emb_index: dict,\n",
    "                             tokenizer,\n",
    "                             emb_dim: int = 300) -> np.ndarray:\n",
    "    \"\"\"\n",
    "    :param emb_index: Embeddings Index\n",
    "    :param tokenizer: Keras fitted tokenizer.\n",
    "    :param emb_dim: Embeddings dimension.\n",
    "    :return: A matrix of shape (nb_words, emb_dim) containing the globe embeddings.\n",
    "    \"\"\"\n",
    "    assert emb_dim in [50, 100, 200, 300]\n",
    "\n",
    "    # Create a matrix of all embeddings\n",
    "    # (stacking=concatenating all the vectors)\n",
    "    all_embs = np.stack(emb_index.values())  # .values() gets the all the arrays from the keys\n",
    "\n",
    "    # Calculate mean\n",
    "    emb_mean = all_embs.mean()\n",
    "    # Calculate standard deviation\n",
    "    emb_std = all_embs.std()\n",
    "\n",
    "    print(\"Embeddings AVG: {} | STD: {}\".format(emb_mean, emb_std))\n",
    "\n",
    "    # We can now create an embedding matrix holding all word vectors.\n",
    "\n",
    "    word_index = tokenizer.word_index\n",
    "\n",
    "    # How many words are there actually. Because we may have requested X most common tokens\n",
    "    # and the total tokens are X/2\n",
    "    max_words = len(word_index)+2 #check if +1 is needed\n",
    "    nb_words = max(max_words, len(word_index))\n",
    "    \n",
    "    print(nb_words)\n",
    "\n",
    "    # Create a random matrix with the same mean and std as the embeddings\n",
    "\n",
    "    embedding_matrix = np.random.normal(emb_mean,  # mean\n",
    "                                        emb_std,  # std\n",
    "                                        (nb_words, emb_dim)  # shape of the matrix\n",
    "                                        )\n",
    "\n",
    "    # The vectors need to be in the same position as their index.\n",
    "    # Meaning a word with token 1 needs to be in the second row (rows start with zero) and so on\n",
    "\n",
    "    # Loop over all words in the word index\n",
    "    for word, i in word_index.items():  # .items() return a tuple with (word, word_index)\n",
    "\n",
    "        # If we are above the amount of words we want to use we do nothing\n",
    "        if i >= max_words:\n",
    "            continue\n",
    "\n",
    "        # Get the embedding vector for the word\n",
    "        embedding_vector = emb_index.get(word)\n",
    "\n",
    "        # If there is an embedding vector, put it in the embedding matrix\n",
    "        if embedding_vector is not None:\n",
    "            embedding_matrix[i] = embedding_vector\n",
    "\n",
    "    return embedding_matrix"
   ]
  },
  {
   "cell_type": "code",
   "execution_count": null,
   "metadata": {
    "colab": {},
    "colab_type": "code",
    "id": "_u0n-gksKUfO"
   },
   "outputs": [],
   "source": [
    "# Actors\n",
    "embedding_matrix_actors = create_embeddings_matrix(emb_index=embeddings_index,\n",
    "                                                   tokenizer=actors_tokenizer,\n",
    "                                                   emb_dim=embedding_dim)\n",
    "\n",
    "# Plot Summary\n",
    "embedding_matrix_plot = create_embeddings_matrix(emb_index=embeddings_index,\n",
    "                                                 tokenizer=plot_tokenizer,\n",
    "                                                 emb_dim=embedding_dim)\n",
    "\n",
    "# Movie Features\n",
    "embedding_matrix_features = create_embeddings_matrix(emb_index=embeddings_index,\n",
    "                                                     tokenizer=features_tokenizer,\n",
    "                                                     emb_dim=embedding_dim)\n",
    "\n",
    "# Movie Reviews\n",
    "embedding_matrix_reviews = create_embeddings_matrix(emb_index=embeddings_index,\n",
    "                                                     tokenizer=reviews_tokenizer,\n",
    "                                                     emb_dim=embedding_dim)\n",
    "\n",
    "# Movie Title\n",
    "embedding_matrix_title = create_embeddings_matrix(emb_index=embeddings_index,\n",
    "                                                  tokenizer=title_tokenizer,\n",
    "                                                  emb_dim=embedding_dim)"
   ]
  },
  {
   "cell_type": "markdown",
   "metadata": {
    "colab_type": "text",
    "id": "ZY7LeiKLKUfQ"
   },
   "source": [
    "## <b>- - - - - - - - - - - - - - - - - - - - - - - - - - - - - - - - - - - - - - - - - - - - - - - - - - - - - - -  </b>"
   ]
  },
  {
   "cell_type": "markdown",
   "metadata": {
    "colab_type": "text",
    "id": "90gCIQZ7KUfR"
   },
   "source": [
    "#### Python Cell no.1\n",
    "--------------------------\n",
    "\n",
    "Define the functions that will be used accross the notebook. <br>\n",
    "* visualise_model: This function is used to create a more informative image of the neural network structure.\n",
    "\n",
    "* callback: The callbacks function with Early Stopping, Model checkpoints and Learning rate monitoring.\n",
    "\n",
    "* save_model: Save the model's weights and structure at the end of the training\n",
    "\n",
    "* plot_keras_history: Plot the learning curves of validation and training datasets across the training epochs\n",
    "\n",
    "* hamming_loss: calculate the hamming loss value to evaluate the performance of the algorithm on test data. Not to be confused to the Hamming loss used as the performance metric."
   ]
  },
  {
   "cell_type": "markdown",
   "metadata": {
    "colab_type": "text",
    "id": "ul2dUySOKUfR"
   },
   "source": []
  },
  {
   "cell_type": "code",
   "execution_count": null,
   "metadata": {
    "colab": {},
    "colab_type": "code",
    "id": "De2iPcUoKUfR"
   },
   "outputs": [],
   "source": [
    "# Function 1 - Visualize Neural Network structure.\n",
    "\n",
    "def visualize_model(model):\n",
    "    return SVG(model_to_dot(model, show_shapes= True, show_layer_names=True, dpi=65).create(prog='dot', format='svg'))\n",
    "\n",
    "#------------------------------------------#------------------------------------------\n",
    "\n",
    "# Fucntion 2 - Callback function with early stopping to avod overfit.\n",
    "\n",
    "def callback(mode, folder_path, saved_model_name, patience_value, logdir, hparams):\n",
    "    \n",
    "    # Initialize parameters\n",
    "    monitor_metric = 'val_loss'\n",
    "    minimum_delta = 0.009\n",
    "    patience_limit = patience_value\n",
    "    verbose_value = 1\n",
    "    mode_value = 'min'\n",
    "    weights_fname = os.path.join(os.getcwd(), '{0}/{1}.h5'.format(folder_path, saved_model_name))\n",
    "    \n",
    "    if mode == \"step decay\":\n",
    "        # Initialize callbacks\n",
    "        callbacks = [\n",
    "            \n",
    "            EarlyStopping(monitor=monitor_metric,\n",
    "                          min_delta=minimum_delta,\n",
    "                          patience=patience_limit,\n",
    "                          verbose=verbose_value,\n",
    "                          mode=mode_value,\n",
    "                          restore_best_weights=True),\n",
    "\n",
    "            ModelCheckpoint(filepath=weights_fname,\n",
    "                            monitor=monitor_metric,\n",
    "                            verbose=verbose_value,\n",
    "                            save_best_only=True,\n",
    "                            save_weights_only=True),\n",
    "            \n",
    "            tf.keras.callbacks.TensorBoard(logdir),\n",
    "            \n",
    "            hp.KerasCallback(logdir, hparams),\n",
    "\n",
    "            tf.keras.callbacks.LearningRateScheduler(step_decay, verbose=1)\n",
    "        ]\n",
    "\n",
    "    else:\n",
    "        # Initialize callbacks\n",
    "        callbacks = [\n",
    "            \n",
    "            EarlyStopping(monitor=monitor_metric,\n",
    "                          min_delta=minimum_delta,\n",
    "                          patience=patience_limit,\n",
    "                          verbose=verbose_value,\n",
    "                          mode=mode_value,\n",
    "                          restore_best_weights=True),\n",
    "\n",
    "            ModelCheckpoint(filepath=weights_fname,\n",
    "                            monitor=monitor_metric,\n",
    "                            verbose=verbose_value,\n",
    "                            save_best_only=True,\n",
    "                            save_weights_only=True),\n",
    "            \n",
    "            tf.keras.callbacks.TensorBoard(logdir),\n",
    "            \n",
    "            hp.KerasCallback(logdir, hparams)\n",
    "        ]\n",
    "\n",
    "    return callbacks\n",
    "\n",
    "#------------------------------------------#------------------------------------------\n",
    "\n",
    "# Fucntion 3 - Save the neural network's weights and structure\n",
    "\n",
    "def save_model(model, folder_path, model_name):\n",
    "    \n",
    "    model_json = model.to_json()\n",
    "\n",
    "    with open(os.path.join(os.getcwd(), \"{0}/{1}.json\".format(folder_path, model_name)), \"w\") as json_file:\n",
    "        json.dump(model_json, json_file)\n",
    "\n",
    "    model.save_weights(os.path.join(os.getcwd(), \"{0}/{1}.h5\".format(folder_path, model_name)))\n",
    "    \n",
    "    print(\"\\nModel's weights are saved\")\n",
    "\n",
    "#------------------------------------------#------------------------------------------\n",
    "\n",
    "# Fucntion 4 - Plot the learning curves of the neural network\n",
    "\n",
    "def plot_keras_history(history, folder_path, embeddings_dimension, batch_size, lr_value, version_data_control): #where history =  model.fit()\n",
    "    \n",
    "    metrics_names = [key for key in history.keys() if not key.startswith('val_')][0:3]\n",
    "    \n",
    "    fig = plt.gcf()\n",
    "    fig, axs = plt.subplots(3, figsize=(20,18))\n",
    "    \n",
    "    for i, metric in enumerate(metrics_names):\n",
    "        \n",
    "        # getting the training values\n",
    "        metric_train_values = history.get(metric, [])\n",
    "\n",
    "        # getting the validation values\n",
    "        metric_val_values = history.get(\"val_{0}\".format(metric), [])\n",
    "\n",
    "        # As loss always exists as a metric we use it to find the \n",
    "        epochs = range(1, len(metric_train_values) + 1)\n",
    "        \n",
    "        # leaving extra spaces to allign with the validation text\n",
    "        training_text = \"   Training {}: {:.5f}\".format(metric,\n",
    "                                                        metric_train_values[-1])\n",
    "        print(training_text)\n",
    "\n",
    "        axs[i].plot(epochs, \n",
    "                    metric_train_values,\n",
    "                    'b',\n",
    "                    label=training_text,\n",
    "                    marker=\".\")\n",
    "        \n",
    "        axs[i].yaxis.label.set_color('white')\n",
    "        axs[i].xaxis.label.set_color('white')\n",
    "        \n",
    "        axs[i].tick_params(axis='x', colors='white')\n",
    "        axs[i].tick_params(axis='y', colors='white')\n",
    "        \n",
    "        axs[i].title.set_color('white')\n",
    "        axs[i].spines['left'].set_color('white')\n",
    "        axs[i].spines['bottom'].set_color('white')\n",
    "\n",
    "        # if we validation metric exists, then plot that as well\n",
    "        if metric_val_values:\n",
    "            \n",
    "            validation_text = \"Validation {}: {:.5f}\".format(metric,\n",
    "                                                             metric_val_values[-1])\n",
    "\n",
    "            axs[i].plot(epochs,\n",
    "                        metric_val_values,\n",
    "                        'g',\n",
    "                        label=validation_text,\n",
    "                        marker=\".\")\n",
    "            \n",
    "            axs[i].yaxis.label.set_color('white')\n",
    "            axs[i].xaxis.label.set_color('white')\n",
    "\n",
    "            axs[i].tick_params(axis='x', colors='white')\n",
    "            axs[i].tick_params(axis='y', colors='white')\n",
    "\n",
    "            axs[i].title.set_color('white')\n",
    "            axs[i].spines['left'].set_color('white')\n",
    "            axs[i].spines['bottom'].set_color('white')\n",
    "        \n",
    "        # add title, xlabel, ylabe, and legend\n",
    "        axs[i].set_title('Model Metric: {}'.format(metric))\n",
    "        axs[i].set_xlabel('Epochs')\n",
    "        axs[i].set_ylabel(metric.title())\n",
    "        axs[i].legend()\n",
    "    \n",
    "    fig.savefig(os.path.join(os.getcwd(), '{0}/ploting_training_validation_performance_{1}dim_{2}batchsize_{3}lr_{4}.png'.format(folder_path, str(embeddings_dimension), str(batch_size), str(lr_value), version_data_control)), dpi=100)\n",
    "    plt.show()\n",
    "    plt.draw()\n",
    "    plt.close()\n",
    "            \n",
    "#------------------------------------------#------------------------------------------\n",
    "\n",
    "# Fucntion 5 - Calculate the Hamming loss of a multilabeled dataset\n",
    "\n",
    "#source:https://github.com/tensorflow/addons/issues/305\n",
    "\n",
    "def hamming_loss(y_true, y_pred, mode='multilabel'):\n",
    "    if mode not in ['multiclass', 'multilabel']:\n",
    "        raise TypeError('mode must be: [multiclass, multilabel])')\n",
    "\n",
    "    if mode == 'multiclass':\n",
    "        nonzero = tf.cast(tf.math.count_nonzero(y_true * y_pred, axis=-1), tf.float32)\n",
    "        print(\"Hamming loss for multi-class classification is: \", 1.0-nonzero)\n",
    "        return 1.0 - nonzero\n",
    "\n",
    "    else:\n",
    "        nonzero = tf.cast(tf.math.count_nonzero(y_true - y_pred, axis=-1), tf.float32)\n",
    "        print(\"Hamming loss for multi-label classification is: \", nonzero / y_true.shape[-1] )\n",
    "        return nonzero / 17\n",
    "\n",
    "class HammingLoss(tfa.metrics.MeanMetricWrapper):\n",
    "    def __init__(self, name='hamming_loss', dtype=None, mode='multilabel'):\n",
    "        super(HammingLoss, self).__init__(\n",
    "                hamming_loss, name, dtype=dtype, mode=mode)"
   ]
  },
  {
   "cell_type": "markdown",
   "metadata": {
    "colab_type": "text",
    "id": "IbLa5DJ_KUfT"
   },
   "source": [
    "#### Python Cell no.2\n",
    "--------------------------\n",
    "\n",
    "Initialize the hyper parameters of the model and the parameters used by the Neural Network not hyperparameter tuned."
   ]
  },
  {
   "cell_type": "markdown",
   "metadata": {
    "colab_type": "text",
    "id": "y1r0VLU6KUfX"
   },
   "source": [
    "**HyperParameters - Initialized**"
   ]
  },
  {
   "cell_type": "code",
   "execution_count": null,
   "metadata": {
    "colab": {},
    "colab_type": "code",
    "id": "xFOD9lEqJmfc"
   },
   "outputs": [],
   "source": [
    "hp_logging_directory=os.path.join(os.getcwd(), \"model_two/logs/hparam_tuning\")"
   ]
  },
  {
   "cell_type": "code",
   "execution_count": null,
   "metadata": {
    "colab": {},
    "colab_type": "code",
    "id": "DGAYXg79JoAi"
   },
   "outputs": [],
   "source": [
    "HP_HIDDEN_UNITS = hp.HParam('batch_size', hp.Discrete([32, 64, 128]))\n",
    "HP_LEARNING_RATE = hp.HParam('learning_rate', hp.Discrete([0.001, 0.01, 0.1]))\n",
    "HP_DECAY_STEPS_MULTIPLIER = hp.HParam('decay_steps_multiplier', hp.Discrete([10, 20]))\n",
    "\n",
    "METRIC_ACCURACY = \"hamming_loss\""
   ]
  },
  {
   "cell_type": "code",
   "execution_count": null,
   "metadata": {
    "colab": {},
    "colab_type": "code",
    "id": "phQZ5_bbKJwX"
   },
   "outputs": [],
   "source": [
    "with tf.summary.create_file_writer(hp_logging_directory).as_default():\n",
    "    hp.hparams_config(\n",
    "    hparams=[HP_HIDDEN_UNITS, HP_LEARNING_RATE, HP_DECAY_STEPS_MULTIPLIER],\n",
    "    metrics=[hp.Metric(METRIC_ACCURACY, display_name='hamming_loss')],\n",
    "  )\n",
    "    \n",
    "try:\n",
    "    os.path.exists(hp_logging_directory)\n",
    "    print(\"Directory of hyper parameters logging exists!\")\n",
    "except Exception as e:\n",
    "    print(e)\n",
    "    print(\"Directory not found!\")"
   ]
  },
  {
   "cell_type": "markdown",
   "metadata": {
    "colab_type": "text",
    "id": "ZomdN6_RKUfU"
   },
   "source": [
    "**Initialize the parameters non-tuned and the optimizers**"
   ]
  },
  {
   "cell_type": "code",
   "execution_count": null,
   "metadata": {
    "colab": {},
    "colab_type": "code",
    "id": "_FdyPiCAKUfU"
   },
   "outputs": [],
   "source": [
    "neural_network_parameters = {}\n",
    "fit_parameters = {}\n",
    "optimizer_parameters = {}\n",
    "\n",
    "#======================================================================\n",
    "#           PARAMETERS THAT DEFINE THE NEURAL NETWORK STRUCTURE       =\n",
    "#======================================================================\n",
    "\n",
    "neural_network_parameters['l2_regularization'] = 0.01\n",
    "neural_network_parameters['dropout_rate'] = 0.1\n",
    "neural_network_parameters['dense_activation'] = 'relu'\n",
    "neural_network_parameters['output_activation'] = 'sigmoid'\n",
    "neural_network_parameters['number_target_variables'] = y_train[0].shape[-1]\n",
    "\n",
    "neural_network_parameters['model_loss'] = tf.keras.losses.BinaryCrossentropy(from_logits=False, name='binary_crossentropy')\n",
    "\n",
    "neural_network_parameters['model_metric'] = [tfa.metrics.HammingLoss(mode=\"multilabel\", name=\"hamming_loss\"), \n",
    "                                             tfa.metrics.F1Score(y_train[0].shape[-1], average=\"micro\", name=\"f1_score_micro\"), \n",
    "                                             tfa.metrics.F1Score(y_train[0].shape[-1], average=None, name=\"f1_score_none\"),\n",
    "                                             tfa.metrics.F1Score(y_train[0].shape[-1], average=\"macro\", name=\"f1_score_macro\")]\n",
    "\n",
    "#---------------------------------------------------------------------------------------\n",
    "\n",
    "#===================================================\n",
    "#       PARAMETERS THAT DEFINE EACH OPTIMIZER      =\n",
    "#===================================================\n",
    "\n",
    "# Define a function to monitor the learning rate per epoch (Option 1)\n",
    "def get_lr_metric(optimizer):\n",
    "    def lr(y_true, y_pred):\n",
    "        return optimizer.lr\n",
    "    return lr\n",
    "\n",
    "# learning rate schedule ((Option 2)\n",
    "def step_decay(epoch, hparams):\n",
    "    initial_lrate = hparams[HP_LEARNING_RATE]\n",
    "    drop = 0.5\n",
    "    epochs_drop = 20.0\n",
    "    lrate = initial_lrate * math.pow(drop, math.floor((1+epoch)/epochs_drop))\n",
    "    return lrate\n",
    "    \n",
    "# Optimizer: ADAM (Learning scheduler with Inverse Time Decay)\n",
    "\n",
    "optimizer_parameters['lr_scheduler_decay_rate'] = 0.1\n",
    "optimizer_parameters['staircase'] = False\n",
    "optimizer_parameters['validation_split_ratio']=0.7\n",
    "\n",
    "def optimizer_adam_v2(haparms):\n",
    "    \n",
    "    print(\"Decay Steps of Inverse Time Decay: {0}\".format(int(np.ceil((X_train_seq_actors.shape[0]*optimizer_parameters['validation_split_ratio'])//hparams[HP_HIDDEN_UNITS]))*hparams[HP_DECAY_STEPS_MULTIPLIER]))\n",
    "    \n",
    "    return keras.optimizers.Adam(tf.keras.optimizers.schedules.InverseTimeDecay(\n",
    "        initial_learning_rate=hparams[HP_LEARNING_RATE],\n",
    "        decay_steps=int(np.ceil((X_train_seq_actors.shape[0]*optimizer_parameters['validation_split_ratio'])//hparams[HP_HIDDEN_UNITS]))*hparams[HP_DECAY_STEPS_MULTIPLIER],\n",
    "        decay_rate=optimizer_parameters['lr_scheduler_decay_rate'],\n",
    "        staircase=optimizer_parameters['staircase']))\n",
    "\n",
    "#---------------------------------------------------------------------------------------\n",
    "\n",
    "#==================================================\n",
    "#       PARAMETERS THAT DEFINE THE MODEL FIT      =\n",
    "#==================================================\n",
    "\n",
    "fit_parameters[\"epoch\"] = 150\n",
    "fit_parameters[\"patience_value\"] = 10\n",
    "fit_parameters[\"verbose_fit\"] = 1\n",
    "fit_parameters['validation_data_ratio']=1-optimizer_parameters['validation_split_ratio']"
   ]
  },
  {
   "cell_type": "markdown",
   "metadata": {
    "colab_type": "text",
    "id": "Omx0a3L8KUfh"
   },
   "source": [
    "#### Python Cell no.3\n",
    "--------------------------\n",
    "\n",
    "The function creates the neural network structure, and fits the model on the dataset."
   ]
  },
  {
   "cell_type": "markdown",
   "metadata": {
    "colab_type": "text",
    "id": "gkznoOWtKUfi"
   },
   "source": [
    "Please specify the exact folder where all the outputs of the training run shall be saved"
   ]
  },
  {
   "cell_type": "code",
   "execution_count": null,
   "metadata": {
    "colab": {},
    "colab_type": "code",
    "id": "ZO-ima15KUfi"
   },
   "outputs": [],
   "source": [
    "# Initialize the basic folder path names that outputs\n",
    "\n",
    "sequential_model_name=\"GloVe_Embeddings_model\"\n",
    "network_structure_file_name=\"network_structure_glove_embeddings\"\n",
    "folder_path_model_saved=\"drive/My Drive/model_two/glove_models_20072020\"\n",
    "saved_model_name=\"glove_embeddings\"\n",
    "saved_metrics_dataframe_name=\"metrics_histogram_glove_embeddings\""
   ]
  },
  {
   "cell_type": "code",
   "execution_count": null,
   "metadata": {
    "colab": {},
    "colab_type": "code",
    "id": "O81yQ8vtKUfl"
   },
   "outputs": [],
   "source": [
    "def create_fit_keras_model(hparams,\n",
    "                           version_data_control,\n",
    "                           optimizer_name,\n",
    "                           validation_method,\n",
    "                           callbacks,\n",
    "                           optimizer_version = None):\n",
    "\n",
    "    sentenceLength_actors = X_train_seq_actors.shape[1]\n",
    "    vocab_size_frequent_words_actors = len(actors_tokenizer.word_index)\n",
    "\n",
    "    sentenceLength_plot = X_train_seq_plot.shape[1]\n",
    "    vocab_size_frequent_words_plot = len(plot_tokenizer.word_index)\n",
    "\n",
    "    sentenceLength_features = X_train_seq_features.shape[1]\n",
    "    vocab_size_frequent_words_features = len(features_tokenizer.word_index)\n",
    "\n",
    "    sentenceLength_reviews = X_train_seq_reviews.shape[1]\n",
    "    vocab_size_frequent_words_reviews = len(reviews_tokenizer.word_index)\n",
    "\n",
    "    sentenceLength_title = X_train_seq_title.shape[1]\n",
    "    vocab_size_frequent_words_title = len(title_tokenizer.word_index)\n",
    "\n",
    "    model = keras.Sequential(name='{0}_{1}batchsize_{2}lr_{3}decaymultiplier_{4}'.format(sequential_model_name, \n",
    "                                                                                         str(hparams[HP_HIDDEN_UNITS]),\n",
    "                                                                                         str(hparams[HP_LEARNING_RATE]), \n",
    "                                                                                         str(hparams[HP_DECAY_STEPS_MULTIPLIER]),\n",
    "                                                                                         version_data_control))\n",
    "    actors = keras.Input(shape=(sentenceLength_actors,), name='actors_input')\n",
    "    plot = keras.Input(shape=(sentenceLength_plot,), name='plot_input')\n",
    "    features = keras.Input(shape=(sentenceLength_features,), name='features_input')\n",
    "    reviews = keras.Input(shape=(sentenceLength_reviews,), name='reviews_input')\n",
    "    title = keras.Input(shape=(sentenceLength_title,), name='title_input')\n",
    "\n",
    "    emb1 = layers.Embedding(input_dim = vocab_size_frequent_words_actors+2,\n",
    "                            output_dim = 300,\n",
    "                            input_length = sentenceLength_actors,\n",
    "                            weights=[embedding_matrix_actors],\n",
    "                            trainable=False,\n",
    "                            name=\"actors_embedding_layer\")(actors)\n",
    "    \n",
    "    encoded_layer1 = layers.GlobalMaxPooling1D(name=\"globalmaxpooling_actors_layer\")(emb1)\n",
    "    \n",
    "    emb2 = layers.Embedding(input_dim = vocab_size_frequent_words_plot+2,\n",
    "                            output_dim = 300,\n",
    "                            input_length = sentenceLength_plot,\n",
    "                            weights=[embedding_matrix_plot],\n",
    "                            trainable=False,\n",
    "                            name=\"plot_embedding_layer\")(plot)\n",
    "\n",
    "    encoded_layer2 = layers.GlobalMaxPooling1D(name=\"globalmaxpooling_plot_summary_Layer\")(emb2)\n",
    "\n",
    "    emb3 = layers.Embedding(input_dim = vocab_size_frequent_words_features+2,\n",
    "                            output_dim = 300,\n",
    "                            input_length = sentenceLength_features,\n",
    "                            weights=[embedding_matrix_features],\n",
    "                            trainable=False,\n",
    "                            name=\"features_embedding_layer\")(features)\n",
    "    \n",
    "    encoded_layer3 = layers.GlobalMaxPooling1D(name=\"globalmaxpooling_movie_features_layer\")(emb3)\n",
    "    \n",
    "    emb4 = layers.Embedding(input_dim = vocab_size_frequent_words_reviews+2,\n",
    "                        output_dim = 300,\n",
    "                        input_length = sentenceLength_reviews,\n",
    "                        weights=[embedding_matrix_reviews],\n",
    "                        trainable=False,\n",
    "                        name=\"reviews_embedding_layer\")(reviews)\n",
    "    \n",
    "    encoded_layer4 = layers.GlobalMaxPooling1D(name=\"globalmaxpooling_user_reviews_layer\")(emb4)\n",
    "\n",
    "    emb5 = layers.Embedding(input_dim = vocab_size_frequent_words_title + 2,\n",
    "                            output_dim = 300,\n",
    "                            input_length = sentenceLength_reviews,\n",
    "                            weights=[embedding_matrix_title],\n",
    "                            trainable=False,\n",
    "                            name=\"title_embedding_layer\")(title)\n",
    "    \n",
    "    encoded_layer5 = layers.GlobalMaxPooling1D(name=\"globalmaxpooling_movie_title_layer\")(emb5)\n",
    "\n",
    "    merged = layers.concatenate([encoded_layer1, encoded_layer2, encoded_layer3, encoded_layer4, encoded_layer5], axis=-1)\n",
    "\n",
    "    dense_layer_1 = layers.Dense(hparams[HP_HIDDEN_UNITS],\n",
    "                                 kernel_regularizer=regularizers.l2(neural_network_parameters['l2_regularization']),\n",
    "                                 activation=neural_network_parameters['dense_activation'],\n",
    "                                 name=\"1st_dense_hidden_layer_concatenated_inputs\")(merged)\n",
    "    \n",
    "    layers.Dropout(neural_network_parameters['dropout_rate'])(dense_layer_1)\n",
    "    \n",
    "    output_layer = layers.Dense(neural_network_parameters['number_target_variables'],\n",
    "                                activation=neural_network_parameters['output_activation'],\n",
    "                                name='output_layer')(dense_layer_1)\n",
    "\n",
    "    model = keras.Model(inputs=[actors, plot, features, reviews, title], outputs=output_layer, name='{0}_{1}batchsize_{2}lr_{3}decaymultiplier_{4}'.format(sequential_model_name, \n",
    "                                                                                                                                                           str(hparams[HP_HIDDEN_UNITS]),\n",
    "                                                                                                                                                           str(hparams[HP_LEARNING_RATE]), \n",
    "                                                                                                                                                           str(hparams[HP_DECAY_STEPS_MULTIPLIER]),\n",
    "                                                                                                                                                           version_data_control))\n",
    "    print(model.summary())\n",
    "    \n",
    "    if optimizer_name==\"adam\" and optimizer_version is None:\n",
    "        \n",
    "        optimizer = optimizer_adam_v2(hparams)\n",
    "        \n",
    "    elif optimizer_name==\"sgd\" and optimizer_version is None:\n",
    "        \n",
    "        optimizer = optimizer_sgd_v1(hparams, \"no decay\")\n",
    "        \n",
    "    elif optimizer_name==\"rmsprop\" and optimizer_version is None:\n",
    "        \n",
    "        optimizer = optimizer_rmsprop_v1(hparams)\n",
    "\n",
    "    print(\"here: {0}\".format(optimizer.lr))\n",
    "\n",
    "    lr_metric = [get_lr_metric(optimizer)]\n",
    "    \n",
    "    if type(get_lr_metric(optimizer)) in (float, int):\n",
    "\n",
    "        print(\"Learning Rate's type is Float or Integer\")\n",
    "        model.compile(optimizer=optimizer,\n",
    "                      loss=neural_network_parameters['model_loss'],\n",
    "                      metrics=neural_network_parameters['model_metric'] + lr_metric, )\n",
    "    else:\n",
    "        print(\"Learning Rate's type is not Float or Integer, but rather {0}\".format(type(get_lr_metric(optimizer))))\n",
    "        model.compile(optimizer=optimizer,\n",
    "                      loss=neural_network_parameters['model_loss'],\n",
    "                      metrics=neural_network_parameters['model_metric'])\n",
    "    \n",
    "    #plot model's structure\n",
    "    plot_model(model, to_file=os.path.join(os.getcwd(), '{0}/{1}_{2}batchsize_{3}lr_{4}decaymultiplier_{5}.png'.format(folder_path_model_saved, \n",
    "                                                                                                                       network_structure_file_name,\n",
    "                                                                                                                       str(hparams[HP_HIDDEN_UNITS]),\n",
    "                                                                                                                       str(hparams[HP_LEARNING_RATE]), \n",
    "                                                                                                                       str(hparams[HP_DECAY_STEPS_MULTIPLIER]),\n",
    "                                                                                                                       version_data_control)))\n",
    "    start_time = time.time()\n",
    "    \n",
    "    steps_per_epoch=int(np.ceil((X_train_seq_actors.shape[0]*optimizer_parameters['validation_split_ratio'])//hparams[HP_HIDDEN_UNITS]))\n",
    "    \n",
    "    print(\"\\nSteps per epoch on current run: {0}\".format(steps_per_epoch))\n",
    "    \n",
    "    if validation_method==\"validation_split\":\n",
    "\n",
    "        fitted_model=model.fit([X_train_seq_actors, X_train_seq_plot, X_train_seq_features, X_train_seq_reviews, X_train_seq_title],\n",
    "                                y_train,\n",
    "                                steps_per_epoch=int(np.ceil((X_train_seq_actors.shape[0]*optimizer_parameters['validation_split_ratio'])//hparams[HP_HIDDEN_UNITS])),\n",
    "                                epochs=fit_parameters[\"epoch\"],\n",
    "                                batch_size=hparams[HP_HIDDEN_UNITS],\n",
    "                                validation_split=fit_parameters['validation_data_ratio'],\n",
    "                                callbacks=callbacks,\n",
    "                                use_multiprocessing=True\n",
    "                              )\n",
    "\n",
    "    elif validation_method==\"validation_data\":\n",
    "        \n",
    "        fitted_model=model.fit([X_train_seq_actors, X_train_seq_plot, X_train_seq_features, X_train_seq_reviews, X_train_seq_title], \n",
    "                               y_train,\n",
    "                               steps_per_epoch=int(np.ceil((X_train_seq_actors.shape[0]*optimizer_parameters['validation_split_ratio'])//hparams[HP_HIDDEN_UNITS])),\n",
    "                               epochs=fit_parameters[\"epoch\"],\n",
    "                               verbose=fit_parameters[\"verbose_fit\"],\n",
    "                               batch_size=hparams[HP_HIDDEN_UNITS],\n",
    "                               validation_data=([X_test_seq_actors, X_test_seq_plot, X_test_seq_features, X_test_seq_reviews, X_test_seq_title],\n",
    "                                                y_test),\n",
    "                               callbacks=callbacks\n",
    "                              )\n",
    "    #save the model\n",
    "    save_model(model,\n",
    "               folder_path_model_saved,\n",
    "               \"{0}_{1}batchsize_{2}lr_{3}decaymultiplier_{4}\".format(saved_model_name,\n",
    "                                                                      str(hparams[HP_HIDDEN_UNITS]), \n",
    "                                                                      str(hparams[HP_LEARNING_RATE]), \n",
    "                                                                      str(hparams[HP_DECAY_STEPS_MULTIPLIER]), \n",
    "                                                                      version_data_control))\n",
    "    elapsed_time = time.time() - start_time\n",
    "    \n",
    "    print(\"\\nTraining time of the multi-input keras model has finished. Duration {0} secs\".format(format_timespan(elapsed_time)))\n",
    "    \n",
    "    evaluation = model.evaluate([X_test_seq_actors, X_test_seq_plot, X_test_seq_features, X_test_seq_reviews, X_test_seq_title], y_test, batch_size=hparams[HP_HIDDEN_UNITS], verbose=2)\n",
    "\n",
    "    loss = evaluation[0] # single number\n",
    "    model_metric = evaluation[1:] # is a list of 3 elements (hamming loss, f1_score_micro, f1_score_none)\n",
    "\n",
    "    hamming_loss_value=evaluation[1]\n",
    "    print('Hamming loss value on test data: {0}'.format(hamming_loss_value))\n",
    "\n",
    "    return hamming_loss_value, model, fitted_model"
   ]
  },
  {
   "cell_type": "markdown",
   "metadata": {
    "colab_type": "text",
    "id": "KEOSfqu8KUfn"
   },
   "source": [
    "#### Python Cell no.4\n",
    "--------------------------\n",
    "\n",
    "*run* is a method that call the above function *create_fit_keras_model*"
   ]
  },
  {
   "cell_type": "code",
   "execution_count": null,
   "metadata": {
    "colab": {},
    "colab_type": "code",
    "id": "77zVtnMGKUfn"
   },
   "outputs": [],
   "source": [
    "def run(run_dir, hparams, version_data_control, optimizer_name, validation_method, callbacks):\n",
    "    with tf.summary.create_file_writer(run_dir).as_default():\n",
    "        hp.hparams(hparams)  # record the values used in this trial\n",
    "        accuracy, model, fitted_model = create_fit_keras_model(hparams, version_data_control, optimizer_name, validation_method, callbacks)\n",
    "        tf.summary.scalar(METRIC_ACCURACY, accuracy, step=1)\n",
    "    \n",
    "    return model, fitted_model"
   ]
  },
  {
   "cell_type": "markdown",
   "metadata": {
    "colab_type": "text",
    "id": "4xL6Wb-OKUfp"
   },
   "source": [
    "#### Python Cell no.5\n",
    "--------------------------\n",
    "\n",
    "#### Prior to fitting the model: \n",
    "\n",
    "* X_train, X_test should have the form of an array with sequence of numbers.\n",
    "* y_train, y_test should have the form of a multi-hot encoded dataframe.\n",
    "\n",
    "<b> General observations: </b>\n",
    "\n",
    "* Reducing batch size can produce a better model (I should grid search on batch size).\n",
    "* Removing the second dense layer improved the results.\n",
    "* Removing regularization also affected the results."
   ]
  },
  {
   "cell_type": "markdown",
   "metadata": {
    "colab_type": "text",
    "id": "mY1EmiWdKUfq"
   },
   "source": [
    "Everything is set. In the next coding cells the training is executed! <br>\n",
    "<b>- - - - - - - - - - - - - - - - - - - - - - - - - - - - - - - - - - - - - - - - - - - - - - - - - - - - - - -  </b>"
   ]
  },
  {
   "cell_type": "code",
   "execution_count": null,
   "metadata": {
    "colab": {},
    "colab_type": "code",
    "id": "PzTuZKeaUQql"
   },
   "outputs": [],
   "source": [
    "if os.path.exists(os.path.join(os.getcwd(), \"{0}\".format(folder_path_model_saved))) is True:\n",
    "    print(\"Folder already exists!\\n\")\n",
    "else:\n",
    "    print(\"Folder not found!\\n\")\n",
    "    os.mkdir(os.path.join(os.getcwd(), \"{0}\".format(folder_path_model_saved)))\n",
    "    print(\"Folder is created!\\n\")"
   ]
  },
  {
   "cell_type": "code",
   "execution_count": null,
   "metadata": {
    "colab": {},
    "colab_type": "code",
    "id": "621wpb4gKUfs",
    "scrolled": false
   },
   "outputs": [],
   "source": [
    "\"\"\"\n",
    "Model Training\n",
    "\"\"\"\n",
    "begin_time=time.time()\n",
    "print(\"{0}: Start execution of the cell\\n\".format(datetime.utcnow().strftime(date_format)))\n",
    "\n",
    "session_num = 1\n",
    "\n",
    "for batch_size in HP_HIDDEN_UNITS.domain.values:\n",
    "  for learning_rate in HP_LEARNING_RATE.domain.values:\n",
    "      for decay_steps_multiplier in HP_DECAY_STEPS_MULTIPLIER.domain.values:\n",
    "          hparams = {\n",
    "              HP_HIDDEN_UNITS: batch_size,\n",
    "              HP_LEARNING_RATE: learning_rate,\n",
    "              HP_DECAY_STEPS_MULTIPLIER: decay_steps_multiplier\n",
    "            }\n",
    "          run_name = \"run-id {0}\".format(session_num)\n",
    "          total_number_models=(len(HP_HIDDEN_UNITS.domain.values)*len(HP_LEARNING_RATE.domain.values)*len(HP_DECAY_STEPS_MULTIPLIER.domain.values))\n",
    "          print('--- Starting trial: {0}/{1}\\n'.format(run_name, total_number_models))\n",
    "          print({h.name: hparams[h] for h in hparams}, '\\n')\n",
    "\n",
    "          starting_training=time.time()\n",
    "\n",
    "          model_struture, model_history=run('{0}/'.format(hp_logging_directory) + run_name, \n",
    "                                            hparams, \n",
    "                                            version_data_control, \n",
    "                                            \"adam\", \n",
    "                                            \"validation_split\",\n",
    "                                            callback(\"adam-inverse decay\",\n",
    "                                                      folder_path_model_saved, \n",
    "                                                      \"{0}_{1}batchsize_{2}lr_{3}decaymultiplier_{4}\".format(saved_model_name,\n",
    "                                                                                                             str(batch_size),\n",
    "                                                                                                             str(learning_rate), \n",
    "                                                                                                             str(decay_steps_multiplier),\n",
    "                                                                                                             version_data_control),\n",
    "                                                      fit_parameters[\"patience_value\"],\n",
    "                                                      \"{0}/\".format(hp_logging_directory) + datetime.now().strftime(\"%Y%m%d-%H%M%S\"), \n",
    "                                                      hparams))\n",
    "          \n",
    "          print(\"Average time per epoch: {0}\\n\".format(format_timespan((time.time()-starting_training)/len(model_history.epoch))))\n",
    "          \n",
    "          hist = pd.DataFrame(model_history.history)\n",
    "          hist['epoch'] = model_history.epoch\n",
    "          hist['epoch']+= 1\n",
    "          hist.index += 1\n",
    "          print(\"Table of training the {0} text classification model\\n\".format(sequential_model_name))\n",
    "          print(tabulate(hist, headers='keys', tablefmt='psql'))\n",
    "\n",
    "          hist.to_pickle(os.path.join(os.getcwd(), folder_path_model_saved+\"/{0}_{1}batchsize_{2}lr_{3}decaymultiplier_{4}.pkl\".format(saved_metrics_dataframe_name,\n",
    "                                                                                                                                       str(batch_size), \n",
    "                                                                                                                                       str(learning_rate), \n",
    "                                                                                                                                       str(decay_steps_multiplier), \n",
    "                                                                                                                                       version_data_control)))\n",
    "\n",
    "          #plot the model's model_metric (Hamming Loss, F1-score) & loss\n",
    "          plot_keras_history(model_history.history, folder_path_model_saved, batch_size, learning_rate, decay_steps_multiplier, version_data_control)\n",
    "\n",
    "          #evaluate the model\n",
    "          model_evaluation = model_struture.evaluate([X_test_seq_actors, X_test_seq_plot, X_test_seq_features, X_test_seq_reviews, X_test_seq_title], \n",
    "                                                      y_test,\n",
    "                                                      batch_size=batch_size,\n",
    "                                                      verbose=2)\n",
    "\n",
    "          print(\"\\nTest Score (evalution of the model's loss/error on the test sequences): {0}\".format(model_evaluation[0]))\n",
    "          print(\"\\nTest model_metric (evalution of the hamming loss on the test sequences): {0}\\n\".format(model_evaluation[1]))\n",
    "\n",
    "          fig = plt.figure()\n",
    "          ax = fig.add_subplot(111)\n",
    "          \n",
    "          plt.rcParams[\"figure.figsize\"] = (16,13)\n",
    "          \n",
    "          ax.bar(genres_list, model_evaluation[3])\n",
    "          \n",
    "          ax.set_title('F1 score per genre tag')\n",
    "          ax.set_xlabel('Movie Genre')\n",
    "          ax.set_ylabel('F1 score')\n",
    "          ax.set_xticklabels(genres_list)\n",
    "          \n",
    "          ax.spines['left'].set_color('white')\n",
    "          ax.spines['bottom'].set_color('white')\n",
    "\n",
    "          ax.tick_params(axis='x', colors='white')\n",
    "          ax.tick_params(axis='y', colors='white')\n",
    "          \n",
    "          ax.yaxis.label.set_color('white')\n",
    "          ax.xaxis.label.set_color('white')\n",
    "          ax.title.set_color('white')\n",
    "\n",
    "          plt.xticks(rotation=45, ha='right')\n",
    "\n",
    "          for i, f1 in enumerate(model_evaluation[3]):\n",
    "              ax.annotate(round(f1, 2), (i, f1), ha='center', va='bottom')\n",
    "          \n",
    "          plt.show()\n",
    "\n",
    "          session_num += 1\n",
    "\n",
    "total_time=time.time() - begin_time\n",
    "print(\"{0}: Total cell execution time: {1}\".format(datetime.utcnow().strftime(date_format), format_timespan(total_time)))"
   ]
  },
  {
   "cell_type": "markdown",
   "metadata": {
    "colab_type": "text",
    "id": "IAuXD7QPpznK"
   },
   "source": [
    "#### Python Cell no.6\n",
    "--------------------------\n",
    "\n",
    "Select the best model classifier"
   ]
  },
  {
   "cell_type": "code",
   "execution_count": null,
   "metadata": {
    "colab": {},
    "colab_type": "code",
    "id": "wXRTXwGAp0H1"
   },
   "outputs": [],
   "source": [
    "saved_model_name=\"glove_embeddings\"\n",
    "folder_path_model_saved=\"drive/My Drive/model_two/glove_models_20072020\"\n",
    "saved_df_scored_metric_name=\"df_metrics_glove\""
   ]
  },
  {
   "cell_type": "code",
   "execution_count": null,
   "metadata": {
    "colab": {},
    "colab_type": "code",
    "id": "pBswdbueqOYA"
   },
   "outputs": [],
   "source": [
    "# Function 1\n",
    "\n",
    "def import_trained_keras_model(method, decay_steps_mode, embedding_dim_mode, optimizer_name, hparams):\n",
    "    \"\"\"\n",
    "    Load the weights of the model saved with EarlyStopping\n",
    "    \"\"\"\n",
    "    if method == \"import custom trained model\":\n",
    "        \n",
    "        if decay_steps_mode==\"on\":\n",
    "            \n",
    "            if embedding_dim_mode==\"on\":\n",
    "            \n",
    "                with open(os.path.join(os.getcwd(), \"{0}/{1}_{2}dim_{3}batchsize_{4}lr_{5}decaymultiplier_{6}.json\".format(folder_path_model_saved,\n",
    "                                                                                                                            saved_model_name,\n",
    "                                                                                                                            str(hparams[HP_EMBEDDING_DIM]), \n",
    "                                                                                                                            str(hparams[HP_HIDDEN_UNITS]), \n",
    "                                                                                                                            str(hparams[HP_LEARNING_RATE]), \n",
    "                                                                                                                            str(hparams[HP_DECAY_STEPS_MULTIPLIER]),\n",
    "                                                                                                                            version_data_control)),'r') as f:\n",
    "                    model_json = json.load(f)\n",
    "\n",
    "                model_imported = model_from_json(model_json)\n",
    "\n",
    "                model_imported.load_weights(os.path.join(os.getcwd(), '{0}/{1}_{2}dim_{3}batchsize_{4}lr_{5}decaymultiplier_{6}.h5'.format(folder_path_model_saved,\n",
    "                                                                                                                                            saved_model_name,\n",
    "                                                                                                                                            str(hparams[HP_EMBEDDING_DIM]),\n",
    "                                                                                                                                            str(hparams[HP_HIDDEN_UNITS]), \n",
    "                                                                                                                                            str(hparams[HP_LEARNING_RATE]), \n",
    "                                                                                                                                            str(hparams[HP_DECAY_STEPS_MULTIPLIER]),\n",
    "                                                                                                                                            version_data_control)))\n",
    "            else:\n",
    "                \n",
    "                with open(os.path.join(os.getcwd(), \"{0}/{1}_{2}batchsize_{3}lr_{4}decaymultiplier_{5}.json\".format(folder_path_model_saved,\n",
    "                                                                                                                     saved_model_name,\n",
    "                                                                                                                     str(hparams[HP_HIDDEN_UNITS]),\n",
    "                                                                                                                     str(hparams[HP_LEARNING_RATE]),\n",
    "                                                                                                                     str(hparams[HP_DECAY_STEPS_MULTIPLIER]),\n",
    "                                                                                                                     version_data_control)),'r') as f:\n",
    "                    model_json = json.load(f)\n",
    "\n",
    "                model_imported = model_from_json(model_json)\n",
    "\n",
    "                model_imported.load_weights(os.path.join(os.getcwd(), '{0}/{1}_{2}batchsize_{3}lr_{4}decaymultiplier_{5}.h5'.format(folder_path_model_saved,\n",
    "                                                                                                                                            saved_model_name,\n",
    "                                                                                                                                            str(hparams[HP_HIDDEN_UNITS]),\n",
    "                                                                                                                                            str(hparams[HP_LEARNING_RATE]), \n",
    "                                                                                                                                            str(hparams[HP_DECAY_STEPS_MULTIPLIER]),\n",
    "                                                                                                                                            version_data_control)))\n",
    "        else:\n",
    "            \n",
    "            with open(os.path.join(os.getcwd(), \"{0}/{1}_{2}dim_{3}batchsize_{4}lr_{5}.json\".format(folder_path_model_saved,\n",
    "                                                                                                     saved_model_name,\n",
    "                                                                                                     str(hparams[HP_EMBEDDING_DIM]), \n",
    "                                                                                                     str(hparams[HP_HIDDEN_UNITS]), \n",
    "                                                                                                     str(hparams[HP_LEARNING_RATE]),\n",
    "                                                                                                     version_data_control)),'r') as f:\n",
    "                model_json = json.load(f)\n",
    "\n",
    "            model_imported = model_from_json(model_json)\n",
    "\n",
    "            model_imported.load_weights(os.path.join(os.getcwd(), '{0}/{1}_{2}dim_{3}batchsize_{4}lr_{5}.h5'.format(folder_path_model_saved,\n",
    "                                                                                                                     saved_model_name,\n",
    "                                                                                                                     str(hparams[HP_EMBEDDING_DIM]), \n",
    "                                                                                                                     str(hparams[HP_HIDDEN_UNITS]), \n",
    "                                                                                                                     str(hparams[HP_LEARNING_RATE]),\n",
    "                                                                                                                     version_data_control))) \n",
    "        if optimizer_name==\"adam\":\n",
    "            optimizer = optimizer_adam_v2(hparams)\n",
    "        \n",
    "        elif optimizer_name==\"sgd\":\n",
    "            optimizer = optimizer_sgd_v1(hparams, \"step decay\")\n",
    "            \n",
    "        else:\n",
    "            optimizer = optimizer_rmsprop_v1(hparams)\n",
    "            \n",
    "        model_imported.compile(optimizer=optimizer,\n",
    "                               loss=neural_network_parameters['model_loss'],\n",
    "                               metrics=neural_network_parameters['model_metric'])\n",
    "        print(\"\\nModel is loaded successfully\\n\")\n",
    "    \n",
    "    else:\n",
    "        \n",
    "        with open(os.path.join(os.getcwd(), \"{0}/{1}_{2}batchsize_{3}lr_{4}decaymultiplier_{5}.json\".format(folder_path_model_saved,\n",
    "                                                                                                             saved_model_name,\n",
    "                                                                                                             str(hparams[HP_HIDDEN_UNITS]), \n",
    "                                                                                                             str(hparams[HP_LEARNING_RATE]), \n",
    "                                                                                                             str(hparams[HP_DECAY_STEPS_MULTIPLIER]),\n",
    "                                                                                                             version_data_control)),'r') as f:\n",
    "            model_json = json.load(f)\n",
    "\n",
    "        model_imported = model_from_json(model_json, custom_objects={'KerasLayer':hub.KerasLayer})\n",
    "\n",
    "        model_imported.load_weights(os.path.join(os.getcwd(), '{0}/{1}_{3}batchsize_{4}lr_{5}decaymultiplier_{6}.h5'.format(folder_path_model_saved,\n",
    "                                                                                                                             saved_model_name,\n",
    "                                                                                                                             str(hparams[HP_HIDDEN_UNITS]), \n",
    "                                                                                                                             str(hparams[HP_LEARNING_RATE]), \n",
    "                                                                                                                             str(hparams[HP_DECAY_STEPS_MULTIPLIER]),\n",
    "                                                                                                                             version_data_control)))\n",
    "\n",
    "        optimizer = optimizer_adam_v2(hparams)\n",
    "\n",
    "        model_imported.compile(optimizer=optimizer,\n",
    "                               loss=neural_network_parameters['model_loss'],\n",
    "                               metrics=neural_network_parameters['model_metric'])\n",
    "        print(\"\\nModel is loaded successfully\\n\")\n",
    "    \n",
    "    return model_imported\n",
    "\n",
    "#----------------------------------------------------------------------\n",
    "\n",
    "# Function 2\n",
    "\n",
    "def create_df_scoring_table(method, decay_steps_mode, embedding_dim_mode, model_tag, hparams, model):\n",
    "    \"\"\"\n",
    "    Create a scoring dictionary to select the best out of the four models\n",
    "    \"\"\"\n",
    "    if method == \"import custom trained model\":\n",
    "        \n",
    "        model_evaluation = model.evaluate([X_test_seq_actors, X_test_seq_plot, X_test_seq_features, X_test_seq_reviews, X_test_seq_title],\n",
    "                                          y_test,\n",
    "                                          batch_size=hparams[HP_HIDDEN_UNITS],\n",
    "                                          verbose=2)\n",
    "\n",
    "        y_test_pred_probs = model.predict([X_test_seq_actors, X_test_seq_plot, X_test_seq_features, X_test_seq_reviews, X_test_seq_title])\n",
    "        y_test_predictions = (y_test_pred_probs>0.5).astype(int)\n",
    "\n",
    "        variance = np.var(y_test_predictions)\n",
    "        sse = np.mean((np.mean(y_test_predictions) - y_test)**2)\n",
    "        bias = sse - variance\n",
    "\n",
    "        hamming_loss_value = HammingLoss(mode='multilabel')\n",
    "        hamming_loss_value.update_state(y_test, y_test_predictions)\n",
    "        \n",
    "        if decay_steps_mode==\"on\":\n",
    "            \n",
    "            if embedding_dim_mode==\"on\":\n",
    "            \n",
    "                df_scores=pd.DataFrame({'Tag Name':pd.Series(model_tag, dtype='str'),\n",
    "                                        'Embedding Dimension tag':pd.Series(hparams[HP_EMBEDDING_DIM], dtype='int'),\n",
    "                                        'Batch tag':pd.Series(hparams[HP_HIDDEN_UNITS], dtype='int'),\n",
    "                                        'Learning Rate tag':pd.Series(hparams[HP_LEARNING_RATE], dtype='float'),\n",
    "                                        'Decay Multiplier tag':pd.Series(hparams[HP_DECAY_STEPS_MULTIPLIER], dtype='int'),\n",
    "                                        'Test Loss':pd.Series([model_evaluation[0]], dtype='float'),\n",
    "                                        'Test Hamming Loss':pd.Series([model_evaluation[1]], dtype='float'),\n",
    "                                        'Hamming Loss':pd.Series([hamming_loss_value.result().numpy()], dtype='float'),\n",
    "                                        'Zero_one Loss':pd.Series([zero_one_loss(y_test, y_test_predictions, normalize=False)], dtype='float'),\n",
    "                                        'F1_score':pd.Series([f1_score(y_test, y_test_predictions, average=\"micro\")], dtype='float'),\n",
    "                                        'F1_score_samples':pd.Series([f1_score(y_test, y_test_predictions, average=\"samples\")], dtype='float'),\n",
    "                                        'ROC_score':pd.Series([roc_auc_score(y_test, y_test_predictions, average=\"micro\", multi_class=\"ovr\")], dtype='float'),\n",
    "                                        'ROC_score_samples':pd.Series([roc_auc_score(y_test, y_test_predictions, average=\"samples\", multi_class=\"ovr\")], dtype='float'),\n",
    "                                        'Bias':pd.Series([bias], dtype='float'),\n",
    "                                        'Variance':pd.Series([variance], dtype='float')\n",
    "                                       })\n",
    "\n",
    "                df_scores.to_pickle(os.path.join(os.getcwd(), \"{0}/{1}_{2}dim_{3}batchsize_{4}lr_{5}decaymultiplier_{6}.pkl\".format(folder_path_model_saved,\n",
    "                                                                                                                                     saved_df_scored_metric_name,\n",
    "                                                                                                                                     str(hparams[HP_EMBEDDING_DIM]),\n",
    "                                                                                                                                     str(hparams[HP_HIDDEN_UNITS]),\n",
    "                                                                                                                                     str(hparams[HP_LEARNING_RATE]),\n",
    "                                                                                                                                     str(hparams[HP_DECAY_STEPS_MULTIPLIER]),\n",
    "                                                                                                                                     version_data_control)))\n",
    "            else:\n",
    "                \n",
    "                df_scores=pd.DataFrame({'Tag Name':pd.Series(model_tag, dtype='str'),\n",
    "                                        'Batch tag':pd.Series(hparams[HP_HIDDEN_UNITS], dtype='int'),\n",
    "                                        'Learning Rate tag':pd.Series(hparams[HP_LEARNING_RATE], dtype='float'),\n",
    "                                        'Decay Multiplier tag':pd.Series(hparams[HP_DECAY_STEPS_MULTIPLIER], dtype='int'),\n",
    "                                        'Test Loss':pd.Series([model_evaluation[0]], dtype='float'),\n",
    "                                        'Test Hamming Loss':pd.Series([model_evaluation[1]], dtype='float'),\n",
    "                                        'Hamming Loss':pd.Series([hamming_loss_value.result().numpy()], dtype='float'),\n",
    "                                        'Zero_one Loss':pd.Series([zero_one_loss(y_test, y_test_predictions, normalize=False)], dtype='float'),\n",
    "                                        'F1_score':pd.Series([f1_score(y_test, y_test_predictions, average=\"micro\")], dtype='float'),\n",
    "                                        'F1_score_samples':pd.Series([f1_score(y_test, y_test_predictions, average=\"samples\")], dtype='float'),\n",
    "                                        'ROC_score':pd.Series([roc_auc_score(y_test, y_test_predictions, average=\"micro\", multi_class=\"ovr\")], dtype='float'),\n",
    "                                        'ROC_score_samples':pd.Series([roc_auc_score(y_test, y_test_predictions, average=\"samples\", multi_class=\"ovr\")], dtype='float'),\n",
    "                                        'Bias':pd.Series([bias], dtype='float'),\n",
    "                                        'Variance':pd.Series([variance], dtype='float')\n",
    "                                       })\n",
    "\n",
    "                df_scores.to_pickle(os.path.join(os.getcwd(), \"{0}/{1}_{2}batchsize_{3}lr_{4}decaymultiplier_{5}.pkl\".format(folder_path_model_saved,\n",
    "                                                                                                                              saved_df_scored_metric_name,\n",
    "                                                                                                                              str(hparams[HP_HIDDEN_UNITS]),\n",
    "                                                                                                                              str(hparams[HP_LEARNING_RATE]),\n",
    "                                                                                                                              str(hparams[HP_DECAY_STEPS_MULTIPLIER]),\n",
    "                                                                                                                              version_data_control)))    \n",
    "        else:\n",
    "            \n",
    "            df_scores=pd.DataFrame({'Tag Name':pd.Series(model_tag, dtype='str'),\n",
    "                                    'Embedding Dimension tag':pd.Series(hparams[HP_EMBEDDING_DIM], dtype='int'),\n",
    "                                    'Batch tag':pd.Series(hparams[HP_HIDDEN_UNITS], dtype='int'),\n",
    "                                    'Learning Rate tag':pd.Series(hparams[HP_LEARNING_RATE], dtype='float'),\n",
    "                                    'Test Loss':pd.Series([model_evaluation[0]], dtype='float'),\n",
    "                                    'Test Hamming Loss':pd.Series([model_evaluation[1]], dtype='float'),\n",
    "                                    'Hamming Loss':pd.Series([hamming_loss_value.result().numpy()], dtype='float'),\n",
    "                                    'Zero_one Loss':pd.Series([zero_one_loss(y_test, y_test_predictions, normalize=False)], dtype='float'),\n",
    "                                    'F1_score':pd.Series([f1_score(y_test, y_test_predictions, average=\"micro\")], dtype='float'),\n",
    "                                    'F1_score_samples':pd.Series([f1_score(y_test, y_test_predictions, average=\"samples\")], dtype='float'),\n",
    "                                    'ROC_score':pd.Series([roc_auc_score(y_test, y_test_predictions, average=\"micro\", multi_class=\"ovr\")], dtype='float'),\n",
    "                                    'ROC_score_samples':pd.Series([roc_auc_score(y_test, y_test_predictions, average=\"samples\", multi_class=\"ovr\")], dtype='float'),\n",
    "                                    'Bias':pd.Series([bias], dtype='float'),\n",
    "                                    'Variance':pd.Series([variance], dtype='float')\n",
    "                                   })\n",
    "\n",
    "            df_scores.to_pickle(os.path.join(os.getcwd(), \"{0}/{1}_{2}dim_{3}batchsize_{4}lr_{5}.pkl\".format(folder_path_model_saved,\n",
    "                                                                                                              saved_df_scored_metric_name,\n",
    "                                                                                                              str(hparams[HP_EMBEDDING_DIM]),\n",
    "                                                                                                              str(hparams[HP_HIDDEN_UNITS]),\n",
    "                                                                                                              str(hparams[HP_LEARNING_RATE]),\n",
    "                                                                                                              version_data_control)))\n",
    "    else:\n",
    "        \n",
    "        model_evaluation = model.evaluate([test_bytes_list_features, test_bytes_list_plot, test_bytes_list_actors_array, test_bytes_list_reviews],\n",
    "                                          test_label,\n",
    "                                          batch_size=hparams[HP_HIDDEN_UNITS],\n",
    "                                          verbose=2)\n",
    "\n",
    "        y_test_pred_probs = model.predict([test_bytes_list_features, test_bytes_list_plot, test_bytes_list_actors_array, test_bytes_list_reviews])\n",
    "        y_test_predictions = (y_test_pred_probs>0.5).astype(int)\n",
    "\n",
    "        variance = np.var(y_test_predictions)\n",
    "        sse = np.mean((np.mean(y_test_predictions) - test_label)**2)\n",
    "        bias = sse - variance\n",
    "\n",
    "        hamming_loss_value = HammingLoss(mode='multilabel')\n",
    "        hamming_loss_value.update_state(test_label, y_test_predictions)\n",
    "\n",
    "        df_scores=pd.DataFrame({'Tag Name':pd.Series(model_tag, dtype='str'),\n",
    "                                'Batch tag':pd.Series(hparams[HP_HIDDEN_UNITS], dtype='int'),\n",
    "                                'Learning Rate tag':pd.Series(hparams[HP_LEARNING_RATE], dtype='float'),\n",
    "                                'Decay Multiplier tag':pd.Series(hparams[HP_DECAY_STEPS_MULTIPLIER], dtype='int'),\n",
    "                                'Test Loss':pd.Series([model_evaluation[0]], dtype='float'),\n",
    "                                'Test Hamming Loss':pd.Series([model_evaluation[1]], dtype='float'),\n",
    "                                'Hamming Loss':pd.Series([hamming_loss_value.result().numpy()], dtype='float'),\n",
    "                                'Zero_one Loss':pd.Series([zero_one_loss(test_label, y_test_predictions, normalize=False)], dtype='float'),\n",
    "                                'F1_score':pd.Series([f1_score(test_label, y_test_predictions, average=\"micro\")], dtype='float'),\n",
    "                                'F1_score_samples':pd.Series([f1_score(test_label, y_test_predictions, average=\"samples\")], dtype='float'),\n",
    "                                'ROC_score':pd.Series([roc_auc_score(test_label, y_test_predictions, average=\"micro\", multi_class=\"ovr\")], dtype='float'),\n",
    "                                'ROC_score_samples':pd.Series([roc_auc_score(test_label, y_test_predictions, average=\"samples\", multi_class=\"ovr\")], dtype='float'),\n",
    "                                'Bias':pd.Series([bias], dtype='float'),\n",
    "                                'Variance':pd.Series([variance], dtype='float')\n",
    "                               })\n",
    "\n",
    "        df_scores.to_pickle(os.path.join(os.getcwd(), \"{0}/{1}_{3}batchsize_{4}lr_{5}decaymultiplier_{6}.pkl\".format(folder_path_model_saved,\n",
    "                                                                                                                      saved_df_scored_metric_name,\n",
    "                                                                                                                      str(hparams[HP_HIDDEN_UNITS]), \n",
    "                                                                                                                      str(hparams[HP_LEARNING_RATE]), \n",
    "                                                                                                                      str(hparams[HP_DECAY_STEPS_MULTIPLIER]),\n",
    "                                                                                                                      version_data_control)))\n",
    "    return df_scores"
   ]
  },
  {
   "cell_type": "code",
   "execution_count": null,
   "metadata": {
    "colab": {},
    "colab_type": "code",
    "id": "uKy0qjRiq6IH"
   },
   "outputs": [],
   "source": [
    "model_method_creation=\"adam\"\n",
    "\n",
    "list_models=[]\n",
    "list_df=[]\n",
    "\n",
    "HP_HIDDEN_UNITS = hp.HParam('batch_size', hp.Discrete([32, 64, 128]))\n",
    "HP_LEARNING_RATE = hp.HParam('learning_rate', hp.Discrete([0.001, 0.01, 0.1]))\n",
    "HP_DECAY_STEPS_MULTIPLIER = hp.HParam('decay_steps_multiplier', hp.Discrete([10, 20]))\n",
    "\n",
    "for batch_size in HP_HIDDEN_UNITS.domain.values:\n",
    "    for learning_rate in HP_LEARNING_RATE.domain.values:\n",
    "        for decay_steps_multiplier in HP_DECAY_STEPS_MULTIPLIER.domain.values:\n",
    "            hparams = {\n",
    "                HP_HIDDEN_UNITS: batch_size,\n",
    "                HP_LEARNING_RATE: learning_rate,\n",
    "                HP_DECAY_STEPS_MULTIPLIER: decay_steps_multiplier\n",
    "              }\n",
    "            print(\"{0}/{1}\".format(len(list_models)+1, (len(HP_HIDDEN_UNITS.domain.values)*len(HP_LEARNING_RATE.domain.values)*len(HP_DECAY_STEPS_MULTIPLIER.domain.values))))\n",
    "            model_object=import_trained_keras_model(\"import custom trained model\", \"on\", \"off\", model_method_creation, hparams)\n",
    "            df_object=create_df_scoring_table(\"import custom trained model\", \"on\", \"off\", \"{0}-{1}\".format(saved_model_name, len(list_models)+1), hparams, model_object)\n",
    "            list_models.append(model_object)\n",
    "            list_df.append(df_object)"
   ]
  },
  {
   "cell_type": "code",
   "execution_count": null,
   "metadata": {
    "colab": {},
    "colab_type": "code",
    "id": "KCfyYhrpq5z4"
   },
   "outputs": [],
   "source": [
    "model_one, model_two, model_three, model_four, model_five, model_six, model_seven, model_eight, model_nine, model_ten, model_eleven, model_twelve, model_thirteen, model_fourteen, model_fifteen, model_sixteen, model_seventeen, model_eighteen=list_models\n",
    "\n",
    "df_scores_one, df_scores_two, df_scores_three, df_scores_four, df_scores_five, df_scores_six, df_scores_seven, df_scores_eight, df_scores_nine, df_scores_ten, df_scores_eleven, df_scores_twelve, df_scores_thirteen, df_scores_fourteen, df_scores_fifteen, df_scores_sixteen, df_scores_seventeen, df_scores_eighteen=list_df\n",
    "\n",
    "frames_adam_glove=[df_scores_one, df_scores_two, df_scores_three, df_scores_four, df_scores_five, df_scores_six, df_scores_seven, df_scores_eight, df_scores_nine, df_scores_ten, df_scores_eleven, df_scores_twelve, df_scores_thirteen, df_scores_fourteen, df_scores_fifteen, \n",
    "                   df_scores_sixteen, df_scores_seventeen, df_scores_eighteen]\n",
    "\n",
    "result_glove=pd.concat(frames_adam_glove)\n",
    "result_glove=result_glove.reset_index(drop=True)\n",
    "result_glove.sort_values(by=['Hamming Loss', 'Zero_one Loss'])"
   ]
  },
  {
   "cell_type": "markdown",
   "metadata": {
    "colab_type": "text",
    "id": "IQBURKyqubKr"
   },
   "source": [
    "Best model of the total 18 models presented above is model 8 with:\n",
    "* Batch size: 64\n",
    "* Learning rate: 0.001\n",
    "* Decay Steps Multiplier: 20\n",
    "* Hamming loss & Zeron-one loss: 0.057641 - 6178.0"
   ]
  },
  {
   "cell_type": "code",
   "execution_count": null,
   "metadata": {
    "colab": {},
    "colab_type": "code",
    "id": "l9V1z-k9q5Y3"
   },
   "outputs": [],
   "source": [
    "print(result_glove.to_latex(index=False))"
   ]
  },
  {
   "cell_type": "code",
   "execution_count": null,
   "metadata": {
    "colab": {},
    "colab_type": "code",
    "id": "O14kEeEGs0rv"
   },
   "outputs": [],
   "source": [
    "# Visualize the structure of the model selected\n",
    "def visualize_model(model):\n",
    "    return SVG(model_to_dot(model, show_shapes= True, show_layer_names=True, dpi=65).create(prog='dot', format='svg'))\n",
    "\n",
    "visualize_model(model_eight)"
   ]
  }
 ],
 "metadata": {
  "accelerator": "GPU",
  "colab": {
   "name": "Part 3.2 - Model 2-GloVe Embeddings Model.ipynb",
   "provenance": [],
   "toc_visible": true
  },
  "kernelspec": {
   "display_name": "Python 3",
   "language": "python",
   "name": "python3"
  },
  "language_info": {
   "codemirror_mode": {
    "name": "ipython",
    "version": 3
   },
   "file_extension": ".py",
   "mimetype": "text/x-python",
   "name": "python",
   "nbconvert_exporter": "python",
   "pygments_lexer": "ipython3",
   "version": "3.7.4"
  }
 },
 "nbformat": 4,
 "nbformat_minor": 1
}
